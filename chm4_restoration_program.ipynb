{
 "cells": [
  {
   "cell_type": "code",
   "execution_count": 1,
   "metadata": {},
   "outputs": [],
   "source": [
    "## Loading neccessary libraries \n",
    "\n",
    "from mesa import Agent, Model\n",
    "from mesa.time import RandomActivation\n",
    "from mesa.datacollection import DataCollector\n",
    "import numpy as np\n",
    "import scipy.stats as stats\n",
    "import pandas as pd\n",
    "import random\n",
    "import plotly.graph_objects as go\n",
    "import plotly.subplots as sp\n",
    "import plotly.express as px\n",
    "import seaborn as sns\n",
    "\n",
    "\n",
    "## Constant variables which will be updated in newer versions of the model to parameters of the Country class \n",
    "## All variables are by default unitless, but have assgined units for beeter illustration\n",
    "\n",
    "\n",
    "COST_INSULATION = 0.45 # cost of insulating square foot, can be considered cents of euro\n",
    "TRESHOLD_LEVEL = 0.25  # treshold level for arrears \n",
    "RESTORATION_COST = 1122 * COST_INSULATION # Restoration cost of one household, 1122 is average european house size in square feet\n",
    "DWELLING_RESTORATION_LIMIT = 900 # upper limit of restoring one dwelling \n",
    "RESTORATION_DWELLING_REDUCTION = 0.5 # reduction of dwelling effectivity\n",
    "RESTORATION_STEP = 7 # the step of simulation in which restoration policy executes\n",
    "GRANULARITY = 'MONTH'  ## in further version of the model can be used to select granularity of studied steps\n",
    "INABILITY_TRESHOLD = 0.1 # percentage of disposable income allocated to energy utility bills treshold, above which household is marked as in \"inability\" to keep dwelling adequately warm\n",
    "ARREARS_TRESHOLD = 0.75 # similar to inability, but decisive treshold for arrears \n",
    "MPS_VALUES = [0.1, 0.13, 0.17, 0.20, 0.25] # Marginal Propensity to save by qunitiles from lowest to highest \n",
    "SHOCK_INDEX = 0  # price index to which shokc shall be applied, 0 is yellow fuel, 1 brown fuel  \n",
    "SHOCK_MAGNITUDE = 0.5 # magnitude of price shock in percentage \n",
    "SHOCK_STEP = 5 # step in which price shock happens, if the schock is executed in the simulation \n",
    "ALLOWENCE_CHEQUE = 50 # amount of the allowence cheque assigned to households \n",
    "RESTORATION_BUDGET = 12000 # overall budget allocated to restoration policy \n",
    "ALLOWENCE_BUDGET = 50000 # overall budget allocated to allowence policy \n",
    "ALLOWENCE_FROM = 9 # step in which allowence policy is excercissed\n",
    "\n",
    "class Household(Agent):\n",
    "    def __init__(self, unique_id, model, disposable_income, dwelling, inability=False, restoration_recieved = False):\n",
    "        super().__init__(unique_id, model)\n",
    "        self.disposable_income = disposable_income # disposalble income of household\n",
    "        self.dwelling = dwelling # energy intensity of household \n",
    "        self.inability = inability # boolean denoting weather household is in inability \n",
    "        self.savings = 0  # savings is initialized as 0 \n",
    "        self.arrears = 0 # amount \n",
    "        self.x = random.uniform(0, 1) # random x coordinate to visualize agents \n",
    "        self.y = random.uniform(0, 1) # random y coordonate to visualize agents  \n",
    "        self.restoration_recieved = restoration_recieved # boolean to denote weather agent recieved restoration help in restoration program \n",
    "        self.allowence_recieved = False # wheather household recieved allowence under allowence program\n",
    "        self.allowence_cheques_sum = 0 # total amount of allowence cheques assigned to agent \n",
    "        self.mps = 0 # marginal propensity to save initialized to zero and later changed accordignly to income quintile \n",
    "        self.daai = 0 # disposable income after allowences \n",
    "\n",
    "    @property\n",
    "    def energy_cost(self):\n",
    "        \"\"\"Calculate and return the current energy cost for the agent.\"\"\"\n",
    "        return self.model.energy_price * (self.dwelling)\n",
    "    \n",
    "    # Assign marginal propensity to save \n",
    "    def update_mps(self):\n",
    "        # Get all agent incomes\n",
    "        incomes = [a.disposable_income for a in self.model.schedule.agents]\n",
    "\n",
    "        # Calculate the quintile thresholds\n",
    "        thresholds = np.quantile(incomes, [0.2, 0.4, 0.6, 0.8]) # artbitratly set income tresholds \n",
    "\n",
    "        # Determine which quintile the agent's income belongs to\n",
    "        quintile = np.digitize(self.disposable_income, thresholds)\n",
    "\n",
    "        # Set the MPS based on the quintile\n",
    "        self.mps = MPS_VALUES[quintile]\n",
    "        \n",
    "    def step(self):\n",
    "        \"\"\"Update the agent's savings in a step.\"\"\"\n",
    "        # Calculate energy costs\n",
    "        energy_costs = self.energy_cost\n",
    "\n",
    "        self.update_mps()\n",
    "\n",
    "        # Check if the agent is in arrears\n",
    "        if energy_costs > self.disposable_income * ARREARS_TRESHOLD:  # now considering arrears if energy cost exceeds ARREARS_TRESHOLD of disposable income\n",
    "            self.arrears += energy_costs\n",
    "        else:\n",
    "            self.savings += (self.disposable_income - energy_costs) * self.mps\n",
    "\n",
    "        # If the agent has arrears\n",
    "        if self.arrears > 0:\n",
    "            if self.savings >= self.arrears:  # and if savings can cover it\n",
    "                self.savings -= self.arrears\n",
    "                self.arrears = 0 # clear the arrears amount\n",
    "            else:  # if savings cannot cover it\n",
    "                self.arrears = self.arrears - self.savings  # set arrears to remaining amount\n",
    "                self.savings = 0\n",
    "\n",
    "        self.inability = self.energy_cost > self.disposable_income * INABILITY_TRESHOLD  # agent is in inability state if energy costs exceed 10% of income\n",
    "\n",
    "        # Update disposable income based on growth rate\n",
    "        growth_rate = np.random.uniform(self.model.growth_boundaries[0], self.model.growth_boundaries[1])\n",
    "        self.disposable_income *= (1 + growth_rate)\n",
    "\n",
    "\n",
    "class Country(Model):\n",
    "    \n",
    "    # method to create such set of incomes which are close or equall to set gini coefficinet\n",
    "    @classmethod\n",
    "    def calculate_gini(cls, incomes):\n",
    "        incomes = np.sort(incomes)\n",
    "        n = len(incomes)\n",
    "        index = np.arange(1, n + 1)\n",
    "        return ((np.sum((2 * index - n  - 1) * incomes)) / (n * np.sum(incomes)))\n",
    "\n",
    "\n",
    "    # method is using the target gini coefficient to assign incomes according to gamma distribution \n",
    "    # The process find the distribution of incomes itteratively \n",
    "    @classmethod\n",
    "    def generate_income_distribution(cls, num_people, median_income, gini_target, lower_bound):\n",
    "        alpha = (gini_target + 1) / (2 - gini_target)\n",
    "        for _ in range(10000):\n",
    "            incomes = stats.gamma.rvs(alpha, scale=median_income/alpha, size=num_people)\n",
    "            incomes = np.clip(incomes, lower_bound, None)  # None means there is no upper bound\n",
    "            gini_current = cls.calculate_gini(incomes)\n",
    "            if np.isclose(gini_current, gini_target, atol=0.01):\n",
    "                return incomes\n",
    "            elif gini_current < gini_target:\n",
    "                alpha *= 0.9\n",
    "            else:\n",
    "                alpha *= 1.1\n",
    "\n",
    "        raise Exception(f\"Failed to reach target Gini coefficient in 1000 iterations. Current Gini: {gini_current}\")\n",
    "    \n",
    "\n",
    "    # Restoration program method sorts the agents by incomes and if the program is executed restores dwelling of agents sorted by income and dwelling intensity \n",
    "    def restoration_program(self):\n",
    "\n",
    "        global RESTORATION_DWELLING_REDUCTION\n",
    "\n",
    "        # Sort the agents by income in ascending order\n",
    "        sorted_agents = sorted(self.schedule.agents, key=lambda agent: (agent.disposable_income, -agent.dwelling)) # agents sorted by ascending income and descending dwelling \n",
    "\n",
    "        for agent in sorted_agents:\n",
    "            if self.restoration_budget >= self.restoration_cost:\n",
    "                # Assign the restoration\n",
    "                agent.restoration_recieved = True\n",
    "\n",
    "                agent.dwelling *= (1- RESTORATION_DWELLING_REDUCTION)\n",
    "\n",
    "                # Deduct the restoration cost from the budget\n",
    "                self.restoration_budget -= self.restoration_cost\n",
    "            else:\n",
    "                # If the budget is not sufficient for another restoration, break the loop\n",
    "                break\n",
    "\n",
    "    # allowence program works in similar manner to restoration program but sorts the agents only by income        \n",
    "    def allowence_program(self):\n",
    "\n",
    "        # Get a list of all agents' incomes\n",
    "        incomes = [agent.disposable_income for agent in self.schedule.agents]\n",
    "\n",
    "        # Compute the 40th percentile of income, which will serve as the cutoff\n",
    "        income_cutoff = np.percentile(incomes, 40)\n",
    "\n",
    "        # Sort the agents by income in ascending order\n",
    "        sorted_agents = sorted(self.schedule.agents, key=lambda agent: (agent.disposable_income))\n",
    "\n",
    "        for agent in sorted_agents:\n",
    "            # Check if the agent's income is below the cutoff\n",
    "            if agent.disposable_income <= income_cutoff and agent.inability:\n",
    "                if self.allowence_budget >= self.allowence_cheque:\n",
    "                    # Assign the allowance\n",
    "                    agent.allowence_recieved = True\n",
    "                    agent.allowence_cheques_sum += self.allowence_cheque\n",
    "                    agent.daai = agent.disposable_income - self.allowence_cheque \n",
    "                    agent.disposable_income += self.allowence_cheque\n",
    "\n",
    "                    # Deduct the restoration cost from the budget\n",
    "                    self.allowence_budget -= self.allowence_cheque\n",
    "                else:\n",
    "                    # If the budget is not sufficient for another restoration, break the loop\n",
    "                    agent.daai = agent.disposable_income\n",
    "                    break\n",
    "            else:\n",
    "                agent.daai = agent.disposable_income\n",
    "\n",
    "    @staticmethod\n",
    "    def assign_inability(agents, inability_start):\n",
    "        \"\"\"\n",
    "        Assigns the inability to the agents.\n",
    "        \"\"\"\n",
    "        agents.sort(key=lambda x: x.disposable_income)\n",
    "\n",
    "        num_agents = len(agents)\n",
    "        num_unable = int(inability_start * num_agents)\n",
    "        inability_per_quintile = np.array([2, 1.6, 1.2, 0.8, 0]) # These values are set arbitrarily \n",
    "        inability_per_quintile *= num_unable / np.sum(inability_per_quintile)\n",
    "        inability_per_quintile = inability_per_quintile.astype(int)\n",
    "\n",
    "        assigned_unable = 0\n",
    "        for i in range(5):  # For each quintile\n",
    "            start = i * num_agents // 5\n",
    "            end = (i + 1) * num_agents // 5 if i < 4 else num_agents\n",
    "            quintile = agents[start:end]\n",
    "            num_unable_quintile = min(inability_per_quintile[i], len(quintile))\n",
    "            unable_agents = np.random.choice(quintile, num_unable_quintile, replace=False)\n",
    "            for agent in unable_agents:\n",
    "                agent.inability = True\n",
    "            assigned_unable += num_unable_quintile\n",
    "\n",
    "        # Assign remaining inability if any\n",
    "        i = 0\n",
    "        while assigned_unable < num_unable:\n",
    "            start = i * num_agents // 5\n",
    "            end = (i + 1) * num_agents // 5 if i < 4 else num_agents\n",
    "            quintile = [agent for agent in agents[start:end] if not agent.inability]\n",
    "            if quintile:\n",
    "                agent = np.random.choice(quintile)\n",
    "                agent.inability = True\n",
    "                assigned_unable += 1\n",
    "            else:\n",
    "                i += 1\n",
    "\n",
    "    @staticmethod\n",
    "    def assign_arrears(agents, arrears_start):\n",
    "        \"\"\"\n",
    "        Assigns the arrears to the agents.\n",
    "        \"\"\"\n",
    "        agents.sort(key=lambda x: x.disposable_income)\n",
    "\n",
    "        num_agents = len(agents)\n",
    "        num_arrears = int(arrears_start * num_agents)\n",
    "        arrears_per_quintile = np.array([2, 1.6, 0, 0, 0])\n",
    "        arrears_per_quintile *= num_arrears / np.sum(arrears_per_quintile)\n",
    "        arrears_per_quintile = arrears_per_quintile.astype(int)\n",
    "\n",
    "        assigned_arrears = 0\n",
    "        for i in range(5):  # For each quintile\n",
    "            start = i * num_agents // 5\n",
    "            end = (i + 1) * num_agents // 5 if i < 4 else num_agents\n",
    "            quintile = agents[start:end]\n",
    "            num_arrears_quintile = min(arrears_per_quintile[i], len(quintile))\n",
    "            arrears_agents = np.random.choice(quintile, num_arrears_quintile, replace=False)\n",
    "            for agent in arrears_agents:\n",
    "                agent.arrears = 2 * ARREARS_TRESHOLD * agent.disposable_income  # assign 0.6 * disposable_income\n",
    "            assigned_arrears += num_arrears_quintile\n",
    "\n",
    "        # Assign remaining arrears if any\n",
    "        i = 0\n",
    "        while assigned_arrears < num_arrears:\n",
    "            start = i * num_agents // 5\n",
    "            end = (i + 1) * num_agents // 5 if i < 4 else num_agents\n",
    "            quintile = [agent for agent in agents[start:end] if not agent.arrears > 0]\n",
    "            if quintile:\n",
    "                agent = np.random.choice(quintile)\n",
    "                agent.arrears = ARREARS_TRESHOLD * agent.disposable_income  # assign 0.6 * disposable_income\n",
    "                assigned_arrears += 1\n",
    "            else:\n",
    "                i += 1\n",
    "\n",
    "\n",
    "    @staticmethod\n",
    "    def assign_dwelling(agents, energy_price):\n",
    "        \"\"\"\n",
    "        Assigns the dwelling to the agents.\n",
    "        \"\"\"\n",
    "        buffer = 0.02  # 2% buffer or margin\n",
    "        all_incomes = [agent.disposable_income for agent in agents]\n",
    "        quintile_thresholds = np.quantile(all_incomes, [0.2, 0.4])  # Calculate income thresholds for the bottom two quintiles\n",
    "        for agent in agents:\n",
    "            min_dwelling, max_dwelling = 500, 2000\n",
    "            if agent.inability:\n",
    "                min_dwelling = max(min_dwelling, int(np.ceil((agent.disposable_income * (INABILITY_TRESHOLD + buffer)) / energy_price)))\n",
    "            else:\n",
    "                max_dwelling = min(max_dwelling, int((agent.disposable_income * (INABILITY_TRESHOLD - buffer)) / energy_price))\n",
    "\n",
    "            # Generate a list of feasible dwelling values\n",
    "            feasible_dwelling = list(range(min_dwelling, max_dwelling + 1))\n",
    "\n",
    "            # If the list is not empty, select a random dwelling from the list\n",
    "            if feasible_dwelling:\n",
    "                agent.dwelling = np.random.choice(feasible_dwelling)\n",
    "            else:\n",
    "                agent.dwelling = min_dwelling  # fallback to the min_dwelling if no other options\n",
    "\n",
    "            # Check income quintile of the agent and if in inability state, increase dwelling size\n",
    "            if agent.disposable_income < quintile_thresholds[1] and agent.inability:  # If in bottom two quintiles and inability is True\n",
    "                agent.dwelling = min(max_dwelling, int(agent.dwelling * 1.25))  # Increase dwelling size by 25%, but not more than max_dwelling\n",
    "\n",
    "    def __init__(self, N, median_income, min_disposal, gini_target, inability_target, arrears_target, growth_boundaries, prices, shares_p, growth_rate_lower_bound, growth_rate_upper_bound, restoration_ACTIVE = False, allowence_ACTIVE = False, price_shock = False):\n",
    "        self.num_agents = N # total number of agents \n",
    "        self.median_income = median_income # median income used for gini distribution target\n",
    "        self.min_disposal = min_disposal # minimal disposable income used for fini distribution target\n",
    "        self.gini_target = gini_target # target of Gini index distribution \n",
    "        self.inability_target = inability_target # share of agents with inability in the first step od the simulation \n",
    "        self.growth_boundaries = growth_boundaries # how much does disposable income grows every step \n",
    "        self.prices = prices # prices of each fuel \n",
    "        self.shares_p = shares_p # shares of each fuel in the energy mix of the Country \n",
    "        self.growth_rate_lower_bound = growth_rate_lower_bound # lower bounds of growth rates of fuel prices \n",
    "        self.growth_rate_upper_bound = growth_rate_upper_bound # upper bound ...\n",
    "        self.price_shock = price_shock # boolean of introducing price shock in the Country \n",
    "        self.restoration_ACTIVE = restoration_ACTIVE # Boolean activating restoration program \n",
    "        self.allowence_ACTIVE = allowence_ACTIVE # Boolean activating allowence program \n",
    "        self.restoration_cost = RESTORATION_COST # viz Variables  \n",
    "        self.restoration_budget = RESTORATION_BUDGET # viz Variables \n",
    "        self.allowence_budget = ALLOWENCE_BUDGET # viz Variables \n",
    "        self.allowence_cheque = ALLOWENCE_CHEQUE # viz Variables \n",
    "        self.arrears_target = arrears_target # targeted share of arrears assigned to households \n",
    "        \n",
    "        \n",
    "        # Schedule randomly initializes agents \n",
    "        self.schedule = RandomActivation(self)\n",
    "\n",
    "        # datacolelctor collects data for each step simulated \n",
    "        self.datacollector = DataCollector(\n",
    "        agent_reporters={\"Dwelling\": \"dwelling\", \n",
    "                        \"Income\": \"disposable_income\",\n",
    "                        \"Inability\": \"inability\",\n",
    "                        \"Savings\":\"savings\",\n",
    "                        \"X\":\"x\",\n",
    "                        \"Y\":\"y\",\n",
    "                        \"MPS\":\"mps\",\n",
    "                        \"DAAI\":\"daai\",\n",
    "                        \"Allowence\":\"allowence_cheques_sum\",\n",
    "                        \"Restoration Aid Recieved\":\"restoration_recieved\",\n",
    "                        \"Arrears\":\"arrears\",\n",
    "                        \"EnergyCost\": \"energy_cost\"},\n",
    "        model_reporters = {\n",
    "                        \"Inability\": lambda model: sum(agent.inability for agent in model.schedule.agents) / model.num_agents,\n",
    "                        \"Arrears\": lambda model: sum(agent.arrears for agent in model.schedule.agents) / model.num_agents,\n",
    "                        \"Allowences\": lambda model: sum(agent.allowence_cheques_sum for agent in model.schedule.agents) / model.num_agents,\n",
    "                        \"Energy Price\": lambda model: model.energy_price,\n",
    "                        \"Price Yellow Fuel\": lambda model: model.prices[0],\n",
    "                        \"Price Brown Fuel\": lambda model: model.prices[1],\n",
    "                        \"Average Dwelling Over Time\": lambda model: sum(agent.dwelling for agent in model.schedule.agents) / model.num_agents,\n",
    "                        \"Restorations\": lambda m: sum([agent.restoration_recieved for agent in m.schedule.agents])}\n",
    "                        )\n",
    "\n",
    "        # Generate disposable incomes and assign dwelling and technology\n",
    "        incomes = self.generate_income_distribution(self.num_agents, self.median_income, self.gini_target, self.min_disposal)\n",
    "\n",
    "        # initial energy price calculated as product of prices and share of each fuel in fuel mix\n",
    "        self.initial_energy_price = np.dot(self.prices, self.shares_p)\n",
    "\n",
    " \n",
    "        # Create agents\n",
    "        agents = []\n",
    "        for i in range(self.num_agents):\n",
    "            a = Household(i, self, disposable_income=incomes[i], dwelling=0, inability=False)\n",
    "            agents.append(a)\n",
    "\n",
    "        # apply the constructed methods to agents \n",
    "        self.assign_inability(agents, self.inability_target)\n",
    "        self.assign_dwelling(agents, self.energy_price)\n",
    "        self.assign_arrears(agents, self.arrears_target)\n",
    "        self.assign_mps(agents)\n",
    "\n",
    "        # Add agents to the model\n",
    "        for a in agents:\n",
    "            self.schedule.add(a)\n",
    "\n",
    "    @staticmethod\n",
    "    def assign_mps(agents):\n",
    "        \"\"\"\n",
    "        Assigns the MPS to the agents based on their income quintile.\n",
    "        \"\"\"\n",
    "        agents.sort(key=lambda x: x.disposable_income)\n",
    "\n",
    "        num_agents = len(agents)\n",
    "        for i in range(5):  # For each quintile\n",
    "            start = i * num_agents // 5\n",
    "            end = (i + 1) * num_agents // 5 if i < 4 else num_agents\n",
    "            quintile_agents = agents[start:end]\n",
    "            for agent in quintile_agents:\n",
    "                agent.mps = MPS_VALUES[i]\n",
    "\n",
    "    @property\n",
    "    def energy_price(self):\n",
    "        \"\"\"Calculate and return the current energy price.\"\"\"\n",
    "        return np.dot(self.prices, self.shares_p)\n",
    "\n",
    "    def step(self):\n",
    "        \"\"\"Advance the model by one step.\"\"\"\n",
    "        self.datacollector.collect(self)  # Collect data before updating the prices\n",
    "\n",
    "        # Update prices based on unique growth rates\n",
    "        growth_rates = np.random.uniform(self.growth_rate_lower_bound, self.growth_rate_upper_bound)\n",
    "\n",
    "        self.prices = self.prices * (1 + growth_rates)\n",
    "\n",
    "        if self.schedule.steps == SHOCK_STEP and self.price_shock == True:\n",
    "            self.prices[SHOCK_INDEX] *= (1 + SHOCK_MAGNITUDE)\n",
    "\n",
    "        # Execute the restoration program if it is enabled\n",
    "        if self.schedule.steps == RESTORATION_STEP and self.restoration_ACTIVE:\n",
    "            self.restoration_program()\n",
    "\n",
    "        if self.schedule.steps >= ALLOWENCE_FROM and self.allowence_ACTIVE:\n",
    "            self.allowence_program()\n",
    "\n",
    "        self.schedule.step()"
   ]
  },
  {
   "cell_type": "markdown",
   "metadata": {},
   "source": [
    "N, median_income, min_disposal, gini_target, inability_target, arrears_target, growth_boundaries, prices, shares_p, growth_rate_lower_bound, growth_rate_upper_bound, restoration_budget, restoration_ACTIVE = False"
   ]
  },
  {
   "cell_type": "code",
   "execution_count": 2,
   "metadata": {},
   "outputs": [],
   "source": [
    "\n",
    "model = Country(1000, 1700, 900, 0.30, 0.2, 0.07, [0,0.05], np.array([0.2, 0.06]), np.array([0.7, 0.3]), np.array([-0.01, -0.01]), np.array([0.02, 0.01]), allowence_ACTIVE = True, restoration_ACTIVE= True, price_shock= True)\n",
    " \n",
    "for i in range(15):\n",
    "    model.step()\n",
    "\n",
    "\n",
    "agent_data = model.datacollector.get_agent_vars_dataframe()\n",
    "model_data = model.datacollector.get_model_vars_dataframe()\n"
   ]
  },
  {
   "cell_type": "code",
   "execution_count": 3,
   "metadata": {},
   "outputs": [
    {
     "data": {
      "text/html": [
       "<div>\n",
       "<style scoped>\n",
       "    .dataframe tbody tr th:only-of-type {\n",
       "        vertical-align: middle;\n",
       "    }\n",
       "\n",
       "    .dataframe tbody tr th {\n",
       "        vertical-align: top;\n",
       "    }\n",
       "\n",
       "    .dataframe thead th {\n",
       "        text-align: right;\n",
       "    }\n",
       "</style>\n",
       "<table border=\"1\" class=\"dataframe\">\n",
       "  <thead>\n",
       "    <tr style=\"text-align: right;\">\n",
       "      <th></th>\n",
       "      <th></th>\n",
       "      <th>Dwelling</th>\n",
       "      <th>Income</th>\n",
       "      <th>Inability</th>\n",
       "      <th>Savings</th>\n",
       "      <th>X</th>\n",
       "      <th>Y</th>\n",
       "      <th>MPS</th>\n",
       "      <th>DAAI</th>\n",
       "      <th>Allowence</th>\n",
       "      <th>Restoration Aid Recieved</th>\n",
       "      <th>Arrears</th>\n",
       "      <th>EnergyCost</th>\n",
       "    </tr>\n",
       "    <tr>\n",
       "      <th>Step</th>\n",
       "      <th>AgentID</th>\n",
       "      <th></th>\n",
       "      <th></th>\n",
       "      <th></th>\n",
       "      <th></th>\n",
       "      <th></th>\n",
       "      <th></th>\n",
       "      <th></th>\n",
       "      <th></th>\n",
       "      <th></th>\n",
       "      <th></th>\n",
       "      <th></th>\n",
       "      <th></th>\n",
       "    </tr>\n",
       "  </thead>\n",
       "  <tbody>\n",
       "    <tr>\n",
       "      <th rowspan=\"5\" valign=\"top\">8</th>\n",
       "      <th>92</th>\n",
       "      <td>250.0</td>\n",
       "      <td>1012.830031</td>\n",
       "      <td>False</td>\n",
       "      <td>691.227461</td>\n",
       "      <td>0.627536</td>\n",
       "      <td>0.134293</td>\n",
       "      <td>0.10</td>\n",
       "      <td>0.000000</td>\n",
       "      <td>0</td>\n",
       "      <td>True</td>\n",
       "      <td>0.000000</td>\n",
       "      <td>58.752111</td>\n",
       "    </tr>\n",
       "    <tr>\n",
       "      <th>107</th>\n",
       "      <td>250.0</td>\n",
       "      <td>1008.349412</td>\n",
       "      <td>False</td>\n",
       "      <td>0.000000</td>\n",
       "      <td>0.986362</td>\n",
       "      <td>0.488724</td>\n",
       "      <td>0.10</td>\n",
       "      <td>0.000000</td>\n",
       "      <td>0</td>\n",
       "      <td>True</td>\n",
       "      <td>676.117881</td>\n",
       "      <td>58.752111</td>\n",
       "    </tr>\n",
       "    <tr>\n",
       "      <th>122</th>\n",
       "      <td>515.5</td>\n",
       "      <td>1011.080393</td>\n",
       "      <td>True</td>\n",
       "      <td>613.747888</td>\n",
       "      <td>0.084114</td>\n",
       "      <td>0.635770</td>\n",
       "      <td>0.10</td>\n",
       "      <td>0.000000</td>\n",
       "      <td>0</td>\n",
       "      <td>True</td>\n",
       "      <td>0.000000</td>\n",
       "      <td>121.146852</td>\n",
       "    </tr>\n",
       "    <tr>\n",
       "      <th>163</th>\n",
       "      <td>250.0</td>\n",
       "      <td>1017.886149</td>\n",
       "      <td>False</td>\n",
       "      <td>716.798054</td>\n",
       "      <td>0.966816</td>\n",
       "      <td>0.055200</td>\n",
       "      <td>0.10</td>\n",
       "      <td>0.000000</td>\n",
       "      <td>0</td>\n",
       "      <td>True</td>\n",
       "      <td>0.000000</td>\n",
       "      <td>58.752111</td>\n",
       "    </tr>\n",
       "    <tr>\n",
       "      <th>166</th>\n",
       "      <td>250.0</td>\n",
       "      <td>1007.422038</td>\n",
       "      <td>False</td>\n",
       "      <td>721.927730</td>\n",
       "      <td>0.485324</td>\n",
       "      <td>0.205753</td>\n",
       "      <td>0.10</td>\n",
       "      <td>0.000000</td>\n",
       "      <td>0</td>\n",
       "      <td>True</td>\n",
       "      <td>0.000000</td>\n",
       "      <td>58.752111</td>\n",
       "    </tr>\n",
       "    <tr>\n",
       "      <th>...</th>\n",
       "      <th>...</th>\n",
       "      <td>...</td>\n",
       "      <td>...</td>\n",
       "      <td>...</td>\n",
       "      <td>...</td>\n",
       "      <td>...</td>\n",
       "      <td>...</td>\n",
       "      <td>...</td>\n",
       "      <td>...</td>\n",
       "      <td>...</td>\n",
       "      <td>...</td>\n",
       "      <td>...</td>\n",
       "      <td>...</td>\n",
       "    </tr>\n",
       "    <tr>\n",
       "      <th rowspan=\"5\" valign=\"top\">14</th>\n",
       "      <th>810</th>\n",
       "      <td>1000.0</td>\n",
       "      <td>1472.904039</td>\n",
       "      <td>True</td>\n",
       "      <td>1115.375178</td>\n",
       "      <td>0.654915</td>\n",
       "      <td>0.864162</td>\n",
       "      <td>0.13</td>\n",
       "      <td>1337.339917</td>\n",
       "      <td>250</td>\n",
       "      <td>True</td>\n",
       "      <td>0.000000</td>\n",
       "      <td>247.121527</td>\n",
       "    </tr>\n",
       "    <tr>\n",
       "      <th>813</th>\n",
       "      <td>250.0</td>\n",
       "      <td>1159.024859</td>\n",
       "      <td>False</td>\n",
       "      <td>0.000000</td>\n",
       "      <td>0.678953</td>\n",
       "      <td>0.631032</td>\n",
       "      <td>0.10</td>\n",
       "      <td>1133.392536</td>\n",
       "      <td>0</td>\n",
       "      <td>True</td>\n",
       "      <td>31.255024</td>\n",
       "      <td>61.780382</td>\n",
       "    </tr>\n",
       "    <tr>\n",
       "      <th>982</th>\n",
       "      <td>250.0</td>\n",
       "      <td>1114.662349</td>\n",
       "      <td>False</td>\n",
       "      <td>1243.066910</td>\n",
       "      <td>0.173017</td>\n",
       "      <td>0.008536</td>\n",
       "      <td>0.10</td>\n",
       "      <td>1070.714400</td>\n",
       "      <td>0</td>\n",
       "      <td>True</td>\n",
       "      <td>0.000000</td>\n",
       "      <td>61.780382</td>\n",
       "    </tr>\n",
       "    <tr>\n",
       "      <th>993</th>\n",
       "      <td>250.0</td>\n",
       "      <td>1159.382005</td>\n",
       "      <td>False</td>\n",
       "      <td>1312.427816</td>\n",
       "      <td>0.792996</td>\n",
       "      <td>0.663740</td>\n",
       "      <td>0.10</td>\n",
       "      <td>1154.467959</td>\n",
       "      <td>0</td>\n",
       "      <td>True</td>\n",
       "      <td>0.000000</td>\n",
       "      <td>61.780382</td>\n",
       "    </tr>\n",
       "    <tr>\n",
       "      <th>584</th>\n",
       "      <td>250.0</td>\n",
       "      <td>1097.724719</td>\n",
       "      <td>False</td>\n",
       "      <td>0.000000</td>\n",
       "      <td>0.297175</td>\n",
       "      <td>0.494390</td>\n",
       "      <td>0.10</td>\n",
       "      <td>1092.784236</td>\n",
       "      <td>0</td>\n",
       "      <td>True</td>\n",
       "      <td>69.666562</td>\n",
       "      <td>61.780382</td>\n",
       "    </tr>\n",
       "  </tbody>\n",
       "</table>\n",
       "<p>161 rows × 12 columns</p>\n",
       "</div>"
      ],
      "text/plain": [
       "              Dwelling       Income  Inability      Savings         X  \\\n",
       "Step AgentID                                                            \n",
       "8    92          250.0  1012.830031      False   691.227461  0.627536   \n",
       "     107         250.0  1008.349412      False     0.000000  0.986362   \n",
       "     122         515.5  1011.080393       True   613.747888  0.084114   \n",
       "     163         250.0  1017.886149      False   716.798054  0.966816   \n",
       "     166         250.0  1007.422038      False   721.927730  0.485324   \n",
       "...                ...          ...        ...          ...       ...   \n",
       "14   810        1000.0  1472.904039       True  1115.375178  0.654915   \n",
       "     813         250.0  1159.024859      False     0.000000  0.678953   \n",
       "     982         250.0  1114.662349      False  1243.066910  0.173017   \n",
       "     993         250.0  1159.382005      False  1312.427816  0.792996   \n",
       "     584         250.0  1097.724719      False     0.000000  0.297175   \n",
       "\n",
       "                     Y   MPS         DAAI  Allowence  \\\n",
       "Step AgentID                                           \n",
       "8    92       0.134293  0.10     0.000000          0   \n",
       "     107      0.488724  0.10     0.000000          0   \n",
       "     122      0.635770  0.10     0.000000          0   \n",
       "     163      0.055200  0.10     0.000000          0   \n",
       "     166      0.205753  0.10     0.000000          0   \n",
       "...                ...   ...          ...        ...   \n",
       "14   810      0.864162  0.13  1337.339917        250   \n",
       "     813      0.631032  0.10  1133.392536          0   \n",
       "     982      0.008536  0.10  1070.714400          0   \n",
       "     993      0.663740  0.10  1154.467959          0   \n",
       "     584      0.494390  0.10  1092.784236          0   \n",
       "\n",
       "              Restoration Aid Recieved     Arrears  EnergyCost  \n",
       "Step AgentID                                                    \n",
       "8    92                           True    0.000000   58.752111  \n",
       "     107                          True  676.117881   58.752111  \n",
       "     122                          True    0.000000  121.146852  \n",
       "     163                          True    0.000000   58.752111  \n",
       "     166                          True    0.000000   58.752111  \n",
       "...                                ...         ...         ...  \n",
       "14   810                          True    0.000000  247.121527  \n",
       "     813                          True   31.255024   61.780382  \n",
       "     982                          True    0.000000   61.780382  \n",
       "     993                          True    0.000000   61.780382  \n",
       "     584                          True   69.666562   61.780382  \n",
       "\n",
       "[161 rows x 12 columns]"
      ]
     },
     "execution_count": 3,
     "metadata": {},
     "output_type": "execute_result"
    }
   ],
   "source": [
    "agent_data[agent_data['Restoration Aid Recieved'] == True]"
   ]
  },
  {
   "cell_type": "code",
   "execution_count": 4,
   "metadata": {},
   "outputs": [],
   "source": [
    "# agent_data[agent_data['Allowence'] > 0]"
   ]
  },
  {
   "cell_type": "code",
   "execution_count": 5,
   "metadata": {},
   "outputs": [],
   "source": [
    "# import matplotlib.pyplot as plt\n",
    "# from ipywidgets import interact\n",
    "\n",
    "\n",
    "# # reset index to make X, Y, Inability into columns\n",
    "# df = agent_data.reset_index()\n",
    "\n",
    "# def plot_step(step):\n",
    "#     df_step = df[df['Step'] == step]\n",
    "#     fig, ax = plt.subplots()\n",
    "#     colors = ['red' if inability else 'green' for inability in df_step['Inability']]\n",
    "#     ax.scatter(df_step['X'], df_step['Y'], color=colors)\n",
    "#     plt.show()\n",
    "\n",
    "# # create slider for steps\n",
    "# interact(plot_step, step=(0, df['Step'].max()))"
   ]
  },
  {
   "cell_type": "code",
   "execution_count": 6,
   "metadata": {},
   "outputs": [
    {
     "data": {
      "text/html": [
       "<div>\n",
       "<style scoped>\n",
       "    .dataframe tbody tr th:only-of-type {\n",
       "        vertical-align: middle;\n",
       "    }\n",
       "\n",
       "    .dataframe tbody tr th {\n",
       "        vertical-align: top;\n",
       "    }\n",
       "\n",
       "    .dataframe thead th {\n",
       "        text-align: right;\n",
       "    }\n",
       "</style>\n",
       "<table border=\"1\" class=\"dataframe\">\n",
       "  <thead>\n",
       "    <tr style=\"text-align: right;\">\n",
       "      <th></th>\n",
       "      <th>Dwelling</th>\n",
       "      <th>Income</th>\n",
       "      <th>Inability</th>\n",
       "      <th>Savings</th>\n",
       "      <th>X</th>\n",
       "      <th>Y</th>\n",
       "      <th>MPS</th>\n",
       "      <th>DAAI</th>\n",
       "      <th>Allowence</th>\n",
       "      <th>Restoration Aid Recieved</th>\n",
       "      <th>Arrears</th>\n",
       "      <th>EnergyCost</th>\n",
       "    </tr>\n",
       "    <tr>\n",
       "      <th>Step</th>\n",
       "      <th></th>\n",
       "      <th></th>\n",
       "      <th></th>\n",
       "      <th></th>\n",
       "      <th></th>\n",
       "      <th></th>\n",
       "      <th></th>\n",
       "      <th></th>\n",
       "      <th></th>\n",
       "      <th></th>\n",
       "      <th></th>\n",
       "      <th></th>\n",
       "    </tr>\n",
       "  </thead>\n",
       "  <tbody>\n",
       "    <tr>\n",
       "      <th>0</th>\n",
       "      <td>541.0</td>\n",
       "      <td>2239.045357</td>\n",
       "      <td>False</td>\n",
       "      <td>0.000000</td>\n",
       "      <td>0.976877</td>\n",
       "      <td>0.793968</td>\n",
       "      <td>0.2</td>\n",
       "      <td>0.000000</td>\n",
       "      <td>0</td>\n",
       "      <td>False</td>\n",
       "      <td>0.0</td>\n",
       "      <td>85.478000</td>\n",
       "    </tr>\n",
       "    <tr>\n",
       "      <th>1</th>\n",
       "      <td>541.0</td>\n",
       "      <td>2342.308659</td>\n",
       "      <td>False</td>\n",
       "      <td>430.736458</td>\n",
       "      <td>0.976877</td>\n",
       "      <td>0.793968</td>\n",
       "      <td>0.2</td>\n",
       "      <td>0.000000</td>\n",
       "      <td>0</td>\n",
       "      <td>False</td>\n",
       "      <td>0.0</td>\n",
       "      <td>85.363067</td>\n",
       "    </tr>\n",
       "    <tr>\n",
       "      <th>2</th>\n",
       "      <td>541.0</td>\n",
       "      <td>2350.350698</td>\n",
       "      <td>False</td>\n",
       "      <td>882.070602</td>\n",
       "      <td>0.976877</td>\n",
       "      <td>0.793968</td>\n",
       "      <td>0.2</td>\n",
       "      <td>0.000000</td>\n",
       "      <td>0</td>\n",
       "      <td>False</td>\n",
       "      <td>0.0</td>\n",
       "      <td>85.637940</td>\n",
       "    </tr>\n",
       "    <tr>\n",
       "      <th>3</th>\n",
       "      <td>541.0</td>\n",
       "      <td>2357.500685</td>\n",
       "      <td>False</td>\n",
       "      <td>1334.815381</td>\n",
       "      <td>0.976877</td>\n",
       "      <td>0.793968</td>\n",
       "      <td>0.2</td>\n",
       "      <td>0.000000</td>\n",
       "      <td>0</td>\n",
       "      <td>False</td>\n",
       "      <td>0.0</td>\n",
       "      <td>86.626801</td>\n",
       "    </tr>\n",
       "    <tr>\n",
       "      <th>4</th>\n",
       "      <td>541.0</td>\n",
       "      <td>2436.169048</td>\n",
       "      <td>False</td>\n",
       "      <td>1788.697240</td>\n",
       "      <td>0.976877</td>\n",
       "      <td>0.793968</td>\n",
       "      <td>0.2</td>\n",
       "      <td>0.000000</td>\n",
       "      <td>0</td>\n",
       "      <td>False</td>\n",
       "      <td>0.0</td>\n",
       "      <td>88.091392</td>\n",
       "    </tr>\n",
       "    <tr>\n",
       "      <th>5</th>\n",
       "      <td>541.0</td>\n",
       "      <td>2536.717882</td>\n",
       "      <td>False</td>\n",
       "      <td>2258.337041</td>\n",
       "      <td>0.976877</td>\n",
       "      <td>0.793968</td>\n",
       "      <td>0.2</td>\n",
       "      <td>0.000000</td>\n",
       "      <td>0</td>\n",
       "      <td>False</td>\n",
       "      <td>0.0</td>\n",
       "      <td>87.970042</td>\n",
       "    </tr>\n",
       "    <tr>\n",
       "      <th>6</th>\n",
       "      <td>541.0</td>\n",
       "      <td>2574.656324</td>\n",
       "      <td>False</td>\n",
       "      <td>2740.393883</td>\n",
       "      <td>0.976877</td>\n",
       "      <td>0.793968</td>\n",
       "      <td>0.2</td>\n",
       "      <td>0.000000</td>\n",
       "      <td>0</td>\n",
       "      <td>False</td>\n",
       "      <td>0.0</td>\n",
       "      <td>126.433672</td>\n",
       "    </tr>\n",
       "    <tr>\n",
       "      <th>7</th>\n",
       "      <td>541.0</td>\n",
       "      <td>2690.871006</td>\n",
       "      <td>False</td>\n",
       "      <td>3230.215649</td>\n",
       "      <td>0.976877</td>\n",
       "      <td>0.793968</td>\n",
       "      <td>0.2</td>\n",
       "      <td>0.000000</td>\n",
       "      <td>0</td>\n",
       "      <td>False</td>\n",
       "      <td>0.0</td>\n",
       "      <td>125.547496</td>\n",
       "    </tr>\n",
       "    <tr>\n",
       "      <th>8</th>\n",
       "      <td>541.0</td>\n",
       "      <td>2807.248016</td>\n",
       "      <td>False</td>\n",
       "      <td>3742.961936</td>\n",
       "      <td>0.976877</td>\n",
       "      <td>0.793968</td>\n",
       "      <td>0.2</td>\n",
       "      <td>0.000000</td>\n",
       "      <td>0</td>\n",
       "      <td>False</td>\n",
       "      <td>0.0</td>\n",
       "      <td>127.139567</td>\n",
       "    </tr>\n",
       "    <tr>\n",
       "      <th>9</th>\n",
       "      <td>541.0</td>\n",
       "      <td>2828.986910</td>\n",
       "      <td>False</td>\n",
       "      <td>4278.675693</td>\n",
       "      <td>0.976877</td>\n",
       "      <td>0.793968</td>\n",
       "      <td>0.2</td>\n",
       "      <td>0.000000</td>\n",
       "      <td>0</td>\n",
       "      <td>False</td>\n",
       "      <td>0.0</td>\n",
       "      <td>128.679235</td>\n",
       "    </tr>\n",
       "    <tr>\n",
       "      <th>10</th>\n",
       "      <td>541.0</td>\n",
       "      <td>2854.072999</td>\n",
       "      <td>False</td>\n",
       "      <td>4818.513564</td>\n",
       "      <td>0.976877</td>\n",
       "      <td>0.793968</td>\n",
       "      <td>0.2</td>\n",
       "      <td>2828.986910</td>\n",
       "      <td>0</td>\n",
       "      <td>False</td>\n",
       "      <td>0.0</td>\n",
       "      <td>129.797554</td>\n",
       "    </tr>\n",
       "    <tr>\n",
       "      <th>11</th>\n",
       "      <td>541.0</td>\n",
       "      <td>2964.774230</td>\n",
       "      <td>False</td>\n",
       "      <td>5363.192466</td>\n",
       "      <td>0.976877</td>\n",
       "      <td>0.793968</td>\n",
       "      <td>0.2</td>\n",
       "      <td>2854.072999</td>\n",
       "      <td>0</td>\n",
       "      <td>False</td>\n",
       "      <td>0.0</td>\n",
       "      <td>130.678491</td>\n",
       "    </tr>\n",
       "    <tr>\n",
       "      <th>12</th>\n",
       "      <td>541.0</td>\n",
       "      <td>3037.525587</td>\n",
       "      <td>False</td>\n",
       "      <td>5929.778198</td>\n",
       "      <td>0.976877</td>\n",
       "      <td>0.793968</td>\n",
       "      <td>0.2</td>\n",
       "      <td>2964.774230</td>\n",
       "      <td>0</td>\n",
       "      <td>False</td>\n",
       "      <td>0.0</td>\n",
       "      <td>131.845569</td>\n",
       "    </tr>\n",
       "    <tr>\n",
       "      <th>13</th>\n",
       "      <td>541.0</td>\n",
       "      <td>3125.442730</td>\n",
       "      <td>False</td>\n",
       "      <td>6510.566305</td>\n",
       "      <td>0.976877</td>\n",
       "      <td>0.793968</td>\n",
       "      <td>0.2</td>\n",
       "      <td>3037.525587</td>\n",
       "      <td>0</td>\n",
       "      <td>False</td>\n",
       "      <td>0.0</td>\n",
       "      <td>133.585049</td>\n",
       "    </tr>\n",
       "    <tr>\n",
       "      <th>14</th>\n",
       "      <td>541.0</td>\n",
       "      <td>3154.152153</td>\n",
       "      <td>False</td>\n",
       "      <td>7108.916302</td>\n",
       "      <td>0.976877</td>\n",
       "      <td>0.793968</td>\n",
       "      <td>0.2</td>\n",
       "      <td>3037.525587</td>\n",
       "      <td>0</td>\n",
       "      <td>False</td>\n",
       "      <td>0.0</td>\n",
       "      <td>133.692746</td>\n",
       "    </tr>\n",
       "  </tbody>\n",
       "</table>\n",
       "</div>"
      ],
      "text/plain": [
       "      Dwelling       Income  Inability      Savings         X         Y  MPS  \\\n",
       "Step                                                                           \n",
       "0        541.0  2239.045357      False     0.000000  0.976877  0.793968  0.2   \n",
       "1        541.0  2342.308659      False   430.736458  0.976877  0.793968  0.2   \n",
       "2        541.0  2350.350698      False   882.070602  0.976877  0.793968  0.2   \n",
       "3        541.0  2357.500685      False  1334.815381  0.976877  0.793968  0.2   \n",
       "4        541.0  2436.169048      False  1788.697240  0.976877  0.793968  0.2   \n",
       "5        541.0  2536.717882      False  2258.337041  0.976877  0.793968  0.2   \n",
       "6        541.0  2574.656324      False  2740.393883  0.976877  0.793968  0.2   \n",
       "7        541.0  2690.871006      False  3230.215649  0.976877  0.793968  0.2   \n",
       "8        541.0  2807.248016      False  3742.961936  0.976877  0.793968  0.2   \n",
       "9        541.0  2828.986910      False  4278.675693  0.976877  0.793968  0.2   \n",
       "10       541.0  2854.072999      False  4818.513564  0.976877  0.793968  0.2   \n",
       "11       541.0  2964.774230      False  5363.192466  0.976877  0.793968  0.2   \n",
       "12       541.0  3037.525587      False  5929.778198  0.976877  0.793968  0.2   \n",
       "13       541.0  3125.442730      False  6510.566305  0.976877  0.793968  0.2   \n",
       "14       541.0  3154.152153      False  7108.916302  0.976877  0.793968  0.2   \n",
       "\n",
       "             DAAI  Allowence  Restoration Aid Recieved  Arrears  EnergyCost  \n",
       "Step                                                                         \n",
       "0        0.000000          0                     False      0.0   85.478000  \n",
       "1        0.000000          0                     False      0.0   85.363067  \n",
       "2        0.000000          0                     False      0.0   85.637940  \n",
       "3        0.000000          0                     False      0.0   86.626801  \n",
       "4        0.000000          0                     False      0.0   88.091392  \n",
       "5        0.000000          0                     False      0.0   87.970042  \n",
       "6        0.000000          0                     False      0.0  126.433672  \n",
       "7        0.000000          0                     False      0.0  125.547496  \n",
       "8        0.000000          0                     False      0.0  127.139567  \n",
       "9        0.000000          0                     False      0.0  128.679235  \n",
       "10    2828.986910          0                     False      0.0  129.797554  \n",
       "11    2854.072999          0                     False      0.0  130.678491  \n",
       "12    2964.774230          0                     False      0.0  131.845569  \n",
       "13    3037.525587          0                     False      0.0  133.585049  \n",
       "14    3037.525587          0                     False      0.0  133.692746  "
      ]
     },
     "execution_count": 6,
     "metadata": {},
     "output_type": "execute_result"
    }
   ],
   "source": [
    "agent_id_8_data = agent_data.xs(915, level=\"AgentID\")\n",
    "agent_id_8_data"
   ]
  },
  {
   "cell_type": "code",
   "execution_count": 7,
   "metadata": {},
   "outputs": [
    {
     "data": {
      "application/vnd.plotly.v1+json": {
       "config": {
        "plotlyServerURL": "https://plot.ly"
       },
       "data": [
        {
         "line": {
          "color": "#636EFA"
         },
         "mode": "lines",
         "name": "Inability",
         "type": "scatter",
         "x": [
          0,
          1,
          2,
          3,
          4,
          5,
          6,
          7,
          8,
          9,
          10,
          11,
          12,
          13,
          14
         ],
         "xaxis": "x",
         "y": [
          0.2,
          0.2,
          0.2,
          0.2,
          0.2,
          0.2,
          0.519,
          0.482,
          0.447,
          0.427,
          0.353,
          0.241,
          0.208,
          0.205,
          0.199
         ],
         "yaxis": "y"
        },
        {
         "line": {
          "color": "#EF553B"
         },
         "mode": "lines",
         "name": "Arrears",
         "type": "scatter",
         "x": [
          0,
          1,
          2,
          3,
          4,
          5,
          6,
          7,
          8,
          9,
          10,
          11,
          12,
          13,
          14
         ],
         "xaxis": "x2",
         "y": [
          94.91610369648053,
          88.66550210901721,
          82.62205047766922,
          76.21503565982603,
          69.67560938816479,
          62.95442412723688,
          56.50498452010148,
          49.774240062941054,
          42.89588663527569,
          35.829043692391,
          28.377077996246616,
          20.448604558600287,
          13.201696108128706,
          6.839685458205158,
          2.01266100493113
         ],
         "yaxis": "y2"
        },
        {
         "line": {
          "color": "#00CC96"
         },
         "mode": "lines",
         "name": "Allowences",
         "type": "scatter",
         "x": [
          0,
          1,
          2,
          3,
          4,
          5,
          6,
          7,
          8,
          9,
          10,
          11,
          12,
          13,
          14
         ],
         "xaxis": "x3",
         "y": [
          0,
          0,
          0,
          0,
          0,
          0,
          0,
          0,
          0,
          0,
          17.25,
          30.9,
          38.85,
          45.05,
          50
         ],
         "yaxis": "y3"
        },
        {
         "line": {
          "color": "#AB63FA"
         },
         "mode": "lines",
         "name": "Energy Price",
         "type": "scatter",
         "x": [
          0,
          1,
          2,
          3,
          4,
          5,
          6,
          7,
          8,
          9,
          10,
          11,
          12,
          13,
          14
         ],
         "xaxis": "x4",
         "y": [
          0.15799999999999997,
          0.157787554365661,
          0.15829563837278163,
          0.1601234765025851,
          0.16283066828620343,
          0.16260636178387697,
          0.23370364498506999,
          0.2320656124361427,
          0.2350084426690046,
          0.23785440881041597,
          0.23992154105019833,
          0.24154989058510568,
          0.24370715103258567,
          0.24692245727515563,
          0.24712152692151695
         ],
         "yaxis": "y4"
        },
        {
         "line": {
          "color": "#FFA15A"
         },
         "mode": "lines",
         "name": "Price Yellow Fuel",
         "type": "scatter",
         "x": [
          0,
          1,
          2,
          3,
          4,
          5,
          6,
          7,
          8,
          9,
          10,
          11,
          12,
          13,
          14
         ],
         "xaxis": "x5",
         "y": [
          0.2,
          0.19994187102003852,
          0.20088069886167442,
          0.20356695781651682,
          0.20742395256507093,
          0.20715063349275345,
          0.3085380761116324,
          0.3063070795272372,
          0.3105838234803753,
          0.31464564175940385,
          0.31757758872212305,
          0.3200457304782189,
          0.3232733716705916,
          0.32806308208223267,
          0.32829931358232006
         ],
         "yaxis": "y5"
        },
        {
         "line": {
          "color": "#19D3F3"
         },
         "mode": "lines",
         "name": "Price Brown Fuel",
         "type": "scatter",
         "x": [
          0,
          1,
          2,
          3,
          4,
          5,
          6,
          7,
          8,
          9,
          10,
          11,
          12,
          13,
          14
         ],
         "xaxis": "x6",
         "y": [
          0.06,
          0.05942748217211348,
          0.05893049723203188,
          0.05875535343674444,
          0.058779671635512655,
          0.058669727796498566,
          0.05908997235642428,
          0.05883552255692228,
          0.05866588744247305,
          0.058674865262777674,
          0.058724096482374054,
          0.05839293083450825,
          0.058052636210571815,
          0.05759433272530924,
          0.05770669137964317
         ],
         "yaxis": "y6"
        },
        {
         "line": {
          "color": "#FF6692"
         },
         "mode": "lines",
         "name": "Average Dwelling Over Time",
         "type": "scatter",
         "x": [
          0,
          1,
          2,
          3,
          4,
          5,
          6,
          7,
          8,
          9,
          10,
          11,
          12,
          13,
          14
         ],
         "xaxis": "x7",
         "y": [
          903.01,
          903.01,
          903.01,
          903.01,
          903.01,
          903.01,
          903.01,
          903.01,
          894.4005,
          894.4005,
          894.4005,
          894.4005,
          894.4005,
          894.4005,
          894.4005
         ],
         "yaxis": "y7"
        },
        {
         "line": {
          "color": "#B6E880"
         },
         "mode": "lines",
         "name": "Restorations",
         "type": "scatter",
         "x": [
          0,
          1,
          2,
          3,
          4,
          5,
          6,
          7,
          8,
          9,
          10,
          11,
          12,
          13,
          14
         ],
         "xaxis": "x8",
         "y": [
          0,
          0,
          0,
          0,
          0,
          0,
          0,
          0,
          23,
          23,
          23,
          23,
          23,
          23,
          23
         ],
         "yaxis": "y8"
        }
       ],
       "layout": {
        "annotations": [
         {
          "font": {
           "size": 16
          },
          "showarrow": false,
          "text": "Inability",
          "x": 0.225,
          "xanchor": "center",
          "xref": "paper",
          "y": 1,
          "yanchor": "bottom",
          "yref": "paper"
         },
         {
          "font": {
           "size": 16
          },
          "showarrow": false,
          "text": "Arrears",
          "x": 0.775,
          "xanchor": "center",
          "xref": "paper",
          "y": 1,
          "yanchor": "bottom",
          "yref": "paper"
         },
         {
          "font": {
           "size": 16
          },
          "showarrow": false,
          "text": "Allowences",
          "x": 0.225,
          "xanchor": "center",
          "xref": "paper",
          "y": 0.71875,
          "yanchor": "bottom",
          "yref": "paper"
         },
         {
          "font": {
           "size": 16
          },
          "showarrow": false,
          "text": "Energy Price",
          "x": 0.775,
          "xanchor": "center",
          "xref": "paper",
          "y": 0.71875,
          "yanchor": "bottom",
          "yref": "paper"
         },
         {
          "font": {
           "size": 16
          },
          "showarrow": false,
          "text": "Price Yellow Fuel",
          "x": 0.225,
          "xanchor": "center",
          "xref": "paper",
          "y": 0.4375,
          "yanchor": "bottom",
          "yref": "paper"
         },
         {
          "font": {
           "size": 16
          },
          "showarrow": false,
          "text": "Price Brown Fuel",
          "x": 0.775,
          "xanchor": "center",
          "xref": "paper",
          "y": 0.4375,
          "yanchor": "bottom",
          "yref": "paper"
         },
         {
          "font": {
           "size": 16
          },
          "showarrow": false,
          "text": "Average Dwelling Over Time",
          "x": 0.225,
          "xanchor": "center",
          "xref": "paper",
          "y": 0.15625,
          "yanchor": "bottom",
          "yref": "paper"
         },
         {
          "font": {
           "size": 16
          },
          "showarrow": false,
          "text": "Restorations",
          "x": 0.775,
          "xanchor": "center",
          "xref": "paper",
          "y": 0.15625,
          "yanchor": "bottom",
          "yref": "paper"
         }
        ],
        "height": 1600,
        "showlegend": false,
        "template": {
         "data": {
          "bar": [
           {
            "error_x": {
             "color": "#2a3f5f"
            },
            "error_y": {
             "color": "#2a3f5f"
            },
            "marker": {
             "line": {
              "color": "#E5ECF6",
              "width": 0.5
             },
             "pattern": {
              "fillmode": "overlay",
              "size": 10,
              "solidity": 0.2
             }
            },
            "type": "bar"
           }
          ],
          "barpolar": [
           {
            "marker": {
             "line": {
              "color": "#E5ECF6",
              "width": 0.5
             },
             "pattern": {
              "fillmode": "overlay",
              "size": 10,
              "solidity": 0.2
             }
            },
            "type": "barpolar"
           }
          ],
          "carpet": [
           {
            "aaxis": {
             "endlinecolor": "#2a3f5f",
             "gridcolor": "white",
             "linecolor": "white",
             "minorgridcolor": "white",
             "startlinecolor": "#2a3f5f"
            },
            "baxis": {
             "endlinecolor": "#2a3f5f",
             "gridcolor": "white",
             "linecolor": "white",
             "minorgridcolor": "white",
             "startlinecolor": "#2a3f5f"
            },
            "type": "carpet"
           }
          ],
          "choropleth": [
           {
            "colorbar": {
             "outlinewidth": 0,
             "ticks": ""
            },
            "type": "choropleth"
           }
          ],
          "contour": [
           {
            "colorbar": {
             "outlinewidth": 0,
             "ticks": ""
            },
            "colorscale": [
             [
              0,
              "#0d0887"
             ],
             [
              0.1111111111111111,
              "#46039f"
             ],
             [
              0.2222222222222222,
              "#7201a8"
             ],
             [
              0.3333333333333333,
              "#9c179e"
             ],
             [
              0.4444444444444444,
              "#bd3786"
             ],
             [
              0.5555555555555556,
              "#d8576b"
             ],
             [
              0.6666666666666666,
              "#ed7953"
             ],
             [
              0.7777777777777778,
              "#fb9f3a"
             ],
             [
              0.8888888888888888,
              "#fdca26"
             ],
             [
              1,
              "#f0f921"
             ]
            ],
            "type": "contour"
           }
          ],
          "contourcarpet": [
           {
            "colorbar": {
             "outlinewidth": 0,
             "ticks": ""
            },
            "type": "contourcarpet"
           }
          ],
          "heatmap": [
           {
            "colorbar": {
             "outlinewidth": 0,
             "ticks": ""
            },
            "colorscale": [
             [
              0,
              "#0d0887"
             ],
             [
              0.1111111111111111,
              "#46039f"
             ],
             [
              0.2222222222222222,
              "#7201a8"
             ],
             [
              0.3333333333333333,
              "#9c179e"
             ],
             [
              0.4444444444444444,
              "#bd3786"
             ],
             [
              0.5555555555555556,
              "#d8576b"
             ],
             [
              0.6666666666666666,
              "#ed7953"
             ],
             [
              0.7777777777777778,
              "#fb9f3a"
             ],
             [
              0.8888888888888888,
              "#fdca26"
             ],
             [
              1,
              "#f0f921"
             ]
            ],
            "type": "heatmap"
           }
          ],
          "heatmapgl": [
           {
            "colorbar": {
             "outlinewidth": 0,
             "ticks": ""
            },
            "colorscale": [
             [
              0,
              "#0d0887"
             ],
             [
              0.1111111111111111,
              "#46039f"
             ],
             [
              0.2222222222222222,
              "#7201a8"
             ],
             [
              0.3333333333333333,
              "#9c179e"
             ],
             [
              0.4444444444444444,
              "#bd3786"
             ],
             [
              0.5555555555555556,
              "#d8576b"
             ],
             [
              0.6666666666666666,
              "#ed7953"
             ],
             [
              0.7777777777777778,
              "#fb9f3a"
             ],
             [
              0.8888888888888888,
              "#fdca26"
             ],
             [
              1,
              "#f0f921"
             ]
            ],
            "type": "heatmapgl"
           }
          ],
          "histogram": [
           {
            "marker": {
             "pattern": {
              "fillmode": "overlay",
              "size": 10,
              "solidity": 0.2
             }
            },
            "type": "histogram"
           }
          ],
          "histogram2d": [
           {
            "colorbar": {
             "outlinewidth": 0,
             "ticks": ""
            },
            "colorscale": [
             [
              0,
              "#0d0887"
             ],
             [
              0.1111111111111111,
              "#46039f"
             ],
             [
              0.2222222222222222,
              "#7201a8"
             ],
             [
              0.3333333333333333,
              "#9c179e"
             ],
             [
              0.4444444444444444,
              "#bd3786"
             ],
             [
              0.5555555555555556,
              "#d8576b"
             ],
             [
              0.6666666666666666,
              "#ed7953"
             ],
             [
              0.7777777777777778,
              "#fb9f3a"
             ],
             [
              0.8888888888888888,
              "#fdca26"
             ],
             [
              1,
              "#f0f921"
             ]
            ],
            "type": "histogram2d"
           }
          ],
          "histogram2dcontour": [
           {
            "colorbar": {
             "outlinewidth": 0,
             "ticks": ""
            },
            "colorscale": [
             [
              0,
              "#0d0887"
             ],
             [
              0.1111111111111111,
              "#46039f"
             ],
             [
              0.2222222222222222,
              "#7201a8"
             ],
             [
              0.3333333333333333,
              "#9c179e"
             ],
             [
              0.4444444444444444,
              "#bd3786"
             ],
             [
              0.5555555555555556,
              "#d8576b"
             ],
             [
              0.6666666666666666,
              "#ed7953"
             ],
             [
              0.7777777777777778,
              "#fb9f3a"
             ],
             [
              0.8888888888888888,
              "#fdca26"
             ],
             [
              1,
              "#f0f921"
             ]
            ],
            "type": "histogram2dcontour"
           }
          ],
          "mesh3d": [
           {
            "colorbar": {
             "outlinewidth": 0,
             "ticks": ""
            },
            "type": "mesh3d"
           }
          ],
          "parcoords": [
           {
            "line": {
             "colorbar": {
              "outlinewidth": 0,
              "ticks": ""
             }
            },
            "type": "parcoords"
           }
          ],
          "pie": [
           {
            "automargin": true,
            "type": "pie"
           }
          ],
          "scatter": [
           {
            "fillpattern": {
             "fillmode": "overlay",
             "size": 10,
             "solidity": 0.2
            },
            "type": "scatter"
           }
          ],
          "scatter3d": [
           {
            "line": {
             "colorbar": {
              "outlinewidth": 0,
              "ticks": ""
             }
            },
            "marker": {
             "colorbar": {
              "outlinewidth": 0,
              "ticks": ""
             }
            },
            "type": "scatter3d"
           }
          ],
          "scattercarpet": [
           {
            "marker": {
             "colorbar": {
              "outlinewidth": 0,
              "ticks": ""
             }
            },
            "type": "scattercarpet"
           }
          ],
          "scattergeo": [
           {
            "marker": {
             "colorbar": {
              "outlinewidth": 0,
              "ticks": ""
             }
            },
            "type": "scattergeo"
           }
          ],
          "scattergl": [
           {
            "marker": {
             "colorbar": {
              "outlinewidth": 0,
              "ticks": ""
             }
            },
            "type": "scattergl"
           }
          ],
          "scattermapbox": [
           {
            "marker": {
             "colorbar": {
              "outlinewidth": 0,
              "ticks": ""
             }
            },
            "type": "scattermapbox"
           }
          ],
          "scatterpolar": [
           {
            "marker": {
             "colorbar": {
              "outlinewidth": 0,
              "ticks": ""
             }
            },
            "type": "scatterpolar"
           }
          ],
          "scatterpolargl": [
           {
            "marker": {
             "colorbar": {
              "outlinewidth": 0,
              "ticks": ""
             }
            },
            "type": "scatterpolargl"
           }
          ],
          "scatterternary": [
           {
            "marker": {
             "colorbar": {
              "outlinewidth": 0,
              "ticks": ""
             }
            },
            "type": "scatterternary"
           }
          ],
          "surface": [
           {
            "colorbar": {
             "outlinewidth": 0,
             "ticks": ""
            },
            "colorscale": [
             [
              0,
              "#0d0887"
             ],
             [
              0.1111111111111111,
              "#46039f"
             ],
             [
              0.2222222222222222,
              "#7201a8"
             ],
             [
              0.3333333333333333,
              "#9c179e"
             ],
             [
              0.4444444444444444,
              "#bd3786"
             ],
             [
              0.5555555555555556,
              "#d8576b"
             ],
             [
              0.6666666666666666,
              "#ed7953"
             ],
             [
              0.7777777777777778,
              "#fb9f3a"
             ],
             [
              0.8888888888888888,
              "#fdca26"
             ],
             [
              1,
              "#f0f921"
             ]
            ],
            "type": "surface"
           }
          ],
          "table": [
           {
            "cells": {
             "fill": {
              "color": "#EBF0F8"
             },
             "line": {
              "color": "white"
             }
            },
            "header": {
             "fill": {
              "color": "#C8D4E3"
             },
             "line": {
              "color": "white"
             }
            },
            "type": "table"
           }
          ]
         },
         "layout": {
          "annotationdefaults": {
           "arrowcolor": "#2a3f5f",
           "arrowhead": 0,
           "arrowwidth": 1
          },
          "autotypenumbers": "strict",
          "coloraxis": {
           "colorbar": {
            "outlinewidth": 0,
            "ticks": ""
           }
          },
          "colorscale": {
           "diverging": [
            [
             0,
             "#8e0152"
            ],
            [
             0.1,
             "#c51b7d"
            ],
            [
             0.2,
             "#de77ae"
            ],
            [
             0.3,
             "#f1b6da"
            ],
            [
             0.4,
             "#fde0ef"
            ],
            [
             0.5,
             "#f7f7f7"
            ],
            [
             0.6,
             "#e6f5d0"
            ],
            [
             0.7,
             "#b8e186"
            ],
            [
             0.8,
             "#7fbc41"
            ],
            [
             0.9,
             "#4d9221"
            ],
            [
             1,
             "#276419"
            ]
           ],
           "sequential": [
            [
             0,
             "#0d0887"
            ],
            [
             0.1111111111111111,
             "#46039f"
            ],
            [
             0.2222222222222222,
             "#7201a8"
            ],
            [
             0.3333333333333333,
             "#9c179e"
            ],
            [
             0.4444444444444444,
             "#bd3786"
            ],
            [
             0.5555555555555556,
             "#d8576b"
            ],
            [
             0.6666666666666666,
             "#ed7953"
            ],
            [
             0.7777777777777778,
             "#fb9f3a"
            ],
            [
             0.8888888888888888,
             "#fdca26"
            ],
            [
             1,
             "#f0f921"
            ]
           ],
           "sequentialminus": [
            [
             0,
             "#0d0887"
            ],
            [
             0.1111111111111111,
             "#46039f"
            ],
            [
             0.2222222222222222,
             "#7201a8"
            ],
            [
             0.3333333333333333,
             "#9c179e"
            ],
            [
             0.4444444444444444,
             "#bd3786"
            ],
            [
             0.5555555555555556,
             "#d8576b"
            ],
            [
             0.6666666666666666,
             "#ed7953"
            ],
            [
             0.7777777777777778,
             "#fb9f3a"
            ],
            [
             0.8888888888888888,
             "#fdca26"
            ],
            [
             1,
             "#f0f921"
            ]
           ]
          },
          "colorway": [
           "#636efa",
           "#EF553B",
           "#00cc96",
           "#ab63fa",
           "#FFA15A",
           "#19d3f3",
           "#FF6692",
           "#B6E880",
           "#FF97FF",
           "#FECB52"
          ],
          "font": {
           "color": "#2a3f5f"
          },
          "geo": {
           "bgcolor": "white",
           "lakecolor": "white",
           "landcolor": "#E5ECF6",
           "showlakes": true,
           "showland": true,
           "subunitcolor": "white"
          },
          "hoverlabel": {
           "align": "left"
          },
          "hovermode": "closest",
          "mapbox": {
           "style": "light"
          },
          "paper_bgcolor": "white",
          "plot_bgcolor": "#E5ECF6",
          "polar": {
           "angularaxis": {
            "gridcolor": "white",
            "linecolor": "white",
            "ticks": ""
           },
           "bgcolor": "#E5ECF6",
           "radialaxis": {
            "gridcolor": "white",
            "linecolor": "white",
            "ticks": ""
           }
          },
          "scene": {
           "xaxis": {
            "backgroundcolor": "#E5ECF6",
            "gridcolor": "white",
            "gridwidth": 2,
            "linecolor": "white",
            "showbackground": true,
            "ticks": "",
            "zerolinecolor": "white"
           },
           "yaxis": {
            "backgroundcolor": "#E5ECF6",
            "gridcolor": "white",
            "gridwidth": 2,
            "linecolor": "white",
            "showbackground": true,
            "ticks": "",
            "zerolinecolor": "white"
           },
           "zaxis": {
            "backgroundcolor": "#E5ECF6",
            "gridcolor": "white",
            "gridwidth": 2,
            "linecolor": "white",
            "showbackground": true,
            "ticks": "",
            "zerolinecolor": "white"
           }
          },
          "shapedefaults": {
           "line": {
            "color": "#2a3f5f"
           }
          },
          "ternary": {
           "aaxis": {
            "gridcolor": "white",
            "linecolor": "white",
            "ticks": ""
           },
           "baxis": {
            "gridcolor": "white",
            "linecolor": "white",
            "ticks": ""
           },
           "bgcolor": "#E5ECF6",
           "caxis": {
            "gridcolor": "white",
            "linecolor": "white",
            "ticks": ""
           }
          },
          "title": {
           "x": 0.05
          },
          "xaxis": {
           "automargin": true,
           "gridcolor": "white",
           "linecolor": "white",
           "ticks": "",
           "title": {
            "standoff": 15
           },
           "zerolinecolor": "white",
           "zerolinewidth": 2
          },
          "yaxis": {
           "automargin": true,
           "gridcolor": "white",
           "linecolor": "white",
           "ticks": "",
           "title": {
            "standoff": 15
           },
           "zerolinecolor": "white",
           "zerolinewidth": 2
          }
         }
        },
        "title": {
         "text": ""
        },
        "width": 1600,
        "xaxis": {
         "anchor": "y",
         "domain": [
          0,
          0.45
         ]
        },
        "xaxis2": {
         "anchor": "y2",
         "domain": [
          0.55,
          1
         ]
        },
        "xaxis3": {
         "anchor": "y3",
         "domain": [
          0,
          0.45
         ]
        },
        "xaxis4": {
         "anchor": "y4",
         "domain": [
          0.55,
          1
         ]
        },
        "xaxis5": {
         "anchor": "y5",
         "domain": [
          0,
          0.45
         ]
        },
        "xaxis6": {
         "anchor": "y6",
         "domain": [
          0.55,
          1
         ]
        },
        "xaxis7": {
         "anchor": "y7",
         "domain": [
          0,
          0.45
         ]
        },
        "xaxis8": {
         "anchor": "y8",
         "domain": [
          0.55,
          1
         ]
        },
        "yaxis": {
         "anchor": "x",
         "domain": [
          0.84375,
          1
         ]
        },
        "yaxis2": {
         "anchor": "x2",
         "domain": [
          0.84375,
          1
         ]
        },
        "yaxis3": {
         "anchor": "x3",
         "domain": [
          0.5625,
          0.71875
         ]
        },
        "yaxis4": {
         "anchor": "x4",
         "domain": [
          0.5625,
          0.71875
         ]
        },
        "yaxis5": {
         "anchor": "x5",
         "domain": [
          0.28125,
          0.4375
         ]
        },
        "yaxis6": {
         "anchor": "x6",
         "domain": [
          0.28125,
          0.4375
         ]
        },
        "yaxis7": {
         "anchor": "x7",
         "domain": [
          0,
          0.15625
         ]
        },
        "yaxis8": {
         "anchor": "x8",
         "domain": [
          0,
          0.15625
         ]
        }
       }
      }
     },
     "metadata": {},
     "output_type": "display_data"
    },
    {
     "data": {
      "application/vnd.plotly.v1+json": {
       "config": {
        "plotlyServerURL": "https://plot.ly"
       },
       "data": [
        {
         "line": {
          "color": "gold"
         },
         "mode": "lines",
         "name": "Price Yellow Fuel",
         "type": "scatter",
         "x": [
          0,
          1,
          2,
          3,
          4,
          5,
          6,
          7,
          8,
          9,
          10,
          11,
          12,
          13,
          14
         ],
         "y": [
          0.2,
          0.19994187102003852,
          0.20088069886167442,
          0.20356695781651682,
          0.20742395256507093,
          0.20715063349275345,
          0.3085380761116324,
          0.3063070795272372,
          0.3105838234803753,
          0.31464564175940385,
          0.31757758872212305,
          0.3200457304782189,
          0.3232733716705916,
          0.32806308208223267,
          0.32829931358232006
         ]
        },
        {
         "line": {
          "color": "brown"
         },
         "mode": "lines",
         "name": "Price Brown Fuel",
         "type": "scatter",
         "x": [
          0,
          1,
          2,
          3,
          4,
          5,
          6,
          7,
          8,
          9,
          10,
          11,
          12,
          13,
          14
         ],
         "y": [
          0.06,
          0.05942748217211348,
          0.05893049723203188,
          0.05875535343674444,
          0.058779671635512655,
          0.058669727796498566,
          0.05908997235642428,
          0.05883552255692228,
          0.05866588744247305,
          0.058674865262777674,
          0.058724096482374054,
          0.05839293083450825,
          0.058052636210571815,
          0.05759433272530924,
          0.05770669137964317
         ]
        },
        {
         "line": {
          "color": "green"
         },
         "mode": "lines",
         "name": "Energy Price",
         "type": "scatter",
         "x": [
          0,
          1,
          2,
          3,
          4,
          5,
          6,
          7,
          8,
          9,
          10,
          11,
          12,
          13,
          14
         ],
         "y": [
          0.15799999999999997,
          0.157787554365661,
          0.15829563837278163,
          0.1601234765025851,
          0.16283066828620343,
          0.16260636178387697,
          0.23370364498506999,
          0.2320656124361427,
          0.2350084426690046,
          0.23785440881041597,
          0.23992154105019833,
          0.24154989058510568,
          0.24370715103258567,
          0.24692245727515563,
          0.24712152692151695
         ]
        }
       ],
       "layout": {
        "showlegend": false,
        "template": {
         "data": {
          "bar": [
           {
            "error_x": {
             "color": "#2a3f5f"
            },
            "error_y": {
             "color": "#2a3f5f"
            },
            "marker": {
             "line": {
              "color": "#E5ECF6",
              "width": 0.5
             },
             "pattern": {
              "fillmode": "overlay",
              "size": 10,
              "solidity": 0.2
             }
            },
            "type": "bar"
           }
          ],
          "barpolar": [
           {
            "marker": {
             "line": {
              "color": "#E5ECF6",
              "width": 0.5
             },
             "pattern": {
              "fillmode": "overlay",
              "size": 10,
              "solidity": 0.2
             }
            },
            "type": "barpolar"
           }
          ],
          "carpet": [
           {
            "aaxis": {
             "endlinecolor": "#2a3f5f",
             "gridcolor": "white",
             "linecolor": "white",
             "minorgridcolor": "white",
             "startlinecolor": "#2a3f5f"
            },
            "baxis": {
             "endlinecolor": "#2a3f5f",
             "gridcolor": "white",
             "linecolor": "white",
             "minorgridcolor": "white",
             "startlinecolor": "#2a3f5f"
            },
            "type": "carpet"
           }
          ],
          "choropleth": [
           {
            "colorbar": {
             "outlinewidth": 0,
             "ticks": ""
            },
            "type": "choropleth"
           }
          ],
          "contour": [
           {
            "colorbar": {
             "outlinewidth": 0,
             "ticks": ""
            },
            "colorscale": [
             [
              0,
              "#0d0887"
             ],
             [
              0.1111111111111111,
              "#46039f"
             ],
             [
              0.2222222222222222,
              "#7201a8"
             ],
             [
              0.3333333333333333,
              "#9c179e"
             ],
             [
              0.4444444444444444,
              "#bd3786"
             ],
             [
              0.5555555555555556,
              "#d8576b"
             ],
             [
              0.6666666666666666,
              "#ed7953"
             ],
             [
              0.7777777777777778,
              "#fb9f3a"
             ],
             [
              0.8888888888888888,
              "#fdca26"
             ],
             [
              1,
              "#f0f921"
             ]
            ],
            "type": "contour"
           }
          ],
          "contourcarpet": [
           {
            "colorbar": {
             "outlinewidth": 0,
             "ticks": ""
            },
            "type": "contourcarpet"
           }
          ],
          "heatmap": [
           {
            "colorbar": {
             "outlinewidth": 0,
             "ticks": ""
            },
            "colorscale": [
             [
              0,
              "#0d0887"
             ],
             [
              0.1111111111111111,
              "#46039f"
             ],
             [
              0.2222222222222222,
              "#7201a8"
             ],
             [
              0.3333333333333333,
              "#9c179e"
             ],
             [
              0.4444444444444444,
              "#bd3786"
             ],
             [
              0.5555555555555556,
              "#d8576b"
             ],
             [
              0.6666666666666666,
              "#ed7953"
             ],
             [
              0.7777777777777778,
              "#fb9f3a"
             ],
             [
              0.8888888888888888,
              "#fdca26"
             ],
             [
              1,
              "#f0f921"
             ]
            ],
            "type": "heatmap"
           }
          ],
          "heatmapgl": [
           {
            "colorbar": {
             "outlinewidth": 0,
             "ticks": ""
            },
            "colorscale": [
             [
              0,
              "#0d0887"
             ],
             [
              0.1111111111111111,
              "#46039f"
             ],
             [
              0.2222222222222222,
              "#7201a8"
             ],
             [
              0.3333333333333333,
              "#9c179e"
             ],
             [
              0.4444444444444444,
              "#bd3786"
             ],
             [
              0.5555555555555556,
              "#d8576b"
             ],
             [
              0.6666666666666666,
              "#ed7953"
             ],
             [
              0.7777777777777778,
              "#fb9f3a"
             ],
             [
              0.8888888888888888,
              "#fdca26"
             ],
             [
              1,
              "#f0f921"
             ]
            ],
            "type": "heatmapgl"
           }
          ],
          "histogram": [
           {
            "marker": {
             "pattern": {
              "fillmode": "overlay",
              "size": 10,
              "solidity": 0.2
             }
            },
            "type": "histogram"
           }
          ],
          "histogram2d": [
           {
            "colorbar": {
             "outlinewidth": 0,
             "ticks": ""
            },
            "colorscale": [
             [
              0,
              "#0d0887"
             ],
             [
              0.1111111111111111,
              "#46039f"
             ],
             [
              0.2222222222222222,
              "#7201a8"
             ],
             [
              0.3333333333333333,
              "#9c179e"
             ],
             [
              0.4444444444444444,
              "#bd3786"
             ],
             [
              0.5555555555555556,
              "#d8576b"
             ],
             [
              0.6666666666666666,
              "#ed7953"
             ],
             [
              0.7777777777777778,
              "#fb9f3a"
             ],
             [
              0.8888888888888888,
              "#fdca26"
             ],
             [
              1,
              "#f0f921"
             ]
            ],
            "type": "histogram2d"
           }
          ],
          "histogram2dcontour": [
           {
            "colorbar": {
             "outlinewidth": 0,
             "ticks": ""
            },
            "colorscale": [
             [
              0,
              "#0d0887"
             ],
             [
              0.1111111111111111,
              "#46039f"
             ],
             [
              0.2222222222222222,
              "#7201a8"
             ],
             [
              0.3333333333333333,
              "#9c179e"
             ],
             [
              0.4444444444444444,
              "#bd3786"
             ],
             [
              0.5555555555555556,
              "#d8576b"
             ],
             [
              0.6666666666666666,
              "#ed7953"
             ],
             [
              0.7777777777777778,
              "#fb9f3a"
             ],
             [
              0.8888888888888888,
              "#fdca26"
             ],
             [
              1,
              "#f0f921"
             ]
            ],
            "type": "histogram2dcontour"
           }
          ],
          "mesh3d": [
           {
            "colorbar": {
             "outlinewidth": 0,
             "ticks": ""
            },
            "type": "mesh3d"
           }
          ],
          "parcoords": [
           {
            "line": {
             "colorbar": {
              "outlinewidth": 0,
              "ticks": ""
             }
            },
            "type": "parcoords"
           }
          ],
          "pie": [
           {
            "automargin": true,
            "type": "pie"
           }
          ],
          "scatter": [
           {
            "fillpattern": {
             "fillmode": "overlay",
             "size": 10,
             "solidity": 0.2
            },
            "type": "scatter"
           }
          ],
          "scatter3d": [
           {
            "line": {
             "colorbar": {
              "outlinewidth": 0,
              "ticks": ""
             }
            },
            "marker": {
             "colorbar": {
              "outlinewidth": 0,
              "ticks": ""
             }
            },
            "type": "scatter3d"
           }
          ],
          "scattercarpet": [
           {
            "marker": {
             "colorbar": {
              "outlinewidth": 0,
              "ticks": ""
             }
            },
            "type": "scattercarpet"
           }
          ],
          "scattergeo": [
           {
            "marker": {
             "colorbar": {
              "outlinewidth": 0,
              "ticks": ""
             }
            },
            "type": "scattergeo"
           }
          ],
          "scattergl": [
           {
            "marker": {
             "colorbar": {
              "outlinewidth": 0,
              "ticks": ""
             }
            },
            "type": "scattergl"
           }
          ],
          "scattermapbox": [
           {
            "marker": {
             "colorbar": {
              "outlinewidth": 0,
              "ticks": ""
             }
            },
            "type": "scattermapbox"
           }
          ],
          "scatterpolar": [
           {
            "marker": {
             "colorbar": {
              "outlinewidth": 0,
              "ticks": ""
             }
            },
            "type": "scatterpolar"
           }
          ],
          "scatterpolargl": [
           {
            "marker": {
             "colorbar": {
              "outlinewidth": 0,
              "ticks": ""
             }
            },
            "type": "scatterpolargl"
           }
          ],
          "scatterternary": [
           {
            "marker": {
             "colorbar": {
              "outlinewidth": 0,
              "ticks": ""
             }
            },
            "type": "scatterternary"
           }
          ],
          "surface": [
           {
            "colorbar": {
             "outlinewidth": 0,
             "ticks": ""
            },
            "colorscale": [
             [
              0,
              "#0d0887"
             ],
             [
              0.1111111111111111,
              "#46039f"
             ],
             [
              0.2222222222222222,
              "#7201a8"
             ],
             [
              0.3333333333333333,
              "#9c179e"
             ],
             [
              0.4444444444444444,
              "#bd3786"
             ],
             [
              0.5555555555555556,
              "#d8576b"
             ],
             [
              0.6666666666666666,
              "#ed7953"
             ],
             [
              0.7777777777777778,
              "#fb9f3a"
             ],
             [
              0.8888888888888888,
              "#fdca26"
             ],
             [
              1,
              "#f0f921"
             ]
            ],
            "type": "surface"
           }
          ],
          "table": [
           {
            "cells": {
             "fill": {
              "color": "#EBF0F8"
             },
             "line": {
              "color": "white"
             }
            },
            "header": {
             "fill": {
              "color": "#C8D4E3"
             },
             "line": {
              "color": "white"
             }
            },
            "type": "table"
           }
          ]
         },
         "layout": {
          "annotationdefaults": {
           "arrowcolor": "#2a3f5f",
           "arrowhead": 0,
           "arrowwidth": 1
          },
          "autotypenumbers": "strict",
          "coloraxis": {
           "colorbar": {
            "outlinewidth": 0,
            "ticks": ""
           }
          },
          "colorscale": {
           "diverging": [
            [
             0,
             "#8e0152"
            ],
            [
             0.1,
             "#c51b7d"
            ],
            [
             0.2,
             "#de77ae"
            ],
            [
             0.3,
             "#f1b6da"
            ],
            [
             0.4,
             "#fde0ef"
            ],
            [
             0.5,
             "#f7f7f7"
            ],
            [
             0.6,
             "#e6f5d0"
            ],
            [
             0.7,
             "#b8e186"
            ],
            [
             0.8,
             "#7fbc41"
            ],
            [
             0.9,
             "#4d9221"
            ],
            [
             1,
             "#276419"
            ]
           ],
           "sequential": [
            [
             0,
             "#0d0887"
            ],
            [
             0.1111111111111111,
             "#46039f"
            ],
            [
             0.2222222222222222,
             "#7201a8"
            ],
            [
             0.3333333333333333,
             "#9c179e"
            ],
            [
             0.4444444444444444,
             "#bd3786"
            ],
            [
             0.5555555555555556,
             "#d8576b"
            ],
            [
             0.6666666666666666,
             "#ed7953"
            ],
            [
             0.7777777777777778,
             "#fb9f3a"
            ],
            [
             0.8888888888888888,
             "#fdca26"
            ],
            [
             1,
             "#f0f921"
            ]
           ],
           "sequentialminus": [
            [
             0,
             "#0d0887"
            ],
            [
             0.1111111111111111,
             "#46039f"
            ],
            [
             0.2222222222222222,
             "#7201a8"
            ],
            [
             0.3333333333333333,
             "#9c179e"
            ],
            [
             0.4444444444444444,
             "#bd3786"
            ],
            [
             0.5555555555555556,
             "#d8576b"
            ],
            [
             0.6666666666666666,
             "#ed7953"
            ],
            [
             0.7777777777777778,
             "#fb9f3a"
            ],
            [
             0.8888888888888888,
             "#fdca26"
            ],
            [
             1,
             "#f0f921"
            ]
           ]
          },
          "colorway": [
           "#636efa",
           "#EF553B",
           "#00cc96",
           "#ab63fa",
           "#FFA15A",
           "#19d3f3",
           "#FF6692",
           "#B6E880",
           "#FF97FF",
           "#FECB52"
          ],
          "font": {
           "color": "#2a3f5f"
          },
          "geo": {
           "bgcolor": "white",
           "lakecolor": "white",
           "landcolor": "#E5ECF6",
           "showlakes": true,
           "showland": true,
           "subunitcolor": "white"
          },
          "hoverlabel": {
           "align": "left"
          },
          "hovermode": "closest",
          "mapbox": {
           "style": "light"
          },
          "paper_bgcolor": "white",
          "plot_bgcolor": "#E5ECF6",
          "polar": {
           "angularaxis": {
            "gridcolor": "white",
            "linecolor": "white",
            "ticks": ""
           },
           "bgcolor": "#E5ECF6",
           "radialaxis": {
            "gridcolor": "white",
            "linecolor": "white",
            "ticks": ""
           }
          },
          "scene": {
           "xaxis": {
            "backgroundcolor": "#E5ECF6",
            "gridcolor": "white",
            "gridwidth": 2,
            "linecolor": "white",
            "showbackground": true,
            "ticks": "",
            "zerolinecolor": "white"
           },
           "yaxis": {
            "backgroundcolor": "#E5ECF6",
            "gridcolor": "white",
            "gridwidth": 2,
            "linecolor": "white",
            "showbackground": true,
            "ticks": "",
            "zerolinecolor": "white"
           },
           "zaxis": {
            "backgroundcolor": "#E5ECF6",
            "gridcolor": "white",
            "gridwidth": 2,
            "linecolor": "white",
            "showbackground": true,
            "ticks": "",
            "zerolinecolor": "white"
           }
          },
          "shapedefaults": {
           "line": {
            "color": "#2a3f5f"
           }
          },
          "ternary": {
           "aaxis": {
            "gridcolor": "white",
            "linecolor": "white",
            "ticks": ""
           },
           "baxis": {
            "gridcolor": "white",
            "linecolor": "white",
            "ticks": ""
           },
           "bgcolor": "#E5ECF6",
           "caxis": {
            "gridcolor": "white",
            "linecolor": "white",
            "ticks": ""
           }
          },
          "title": {
           "x": 0.05
          },
          "xaxis": {
           "automargin": true,
           "gridcolor": "white",
           "linecolor": "white",
           "ticks": "",
           "title": {
            "standoff": 15
           },
           "zerolinecolor": "white",
           "zerolinewidth": 2
          },
          "yaxis": {
           "automargin": true,
           "gridcolor": "white",
           "linecolor": "white",
           "ticks": "",
           "title": {
            "standoff": 15
           },
           "zerolinecolor": "white",
           "zerolinewidth": 2
          }
         }
        },
        "title": {
         "text": "Prices over time"
        },
        "xaxis": {
         "title": {
          "text": "Time (steps)"
         }
        },
        "yaxis": {
         "title": {
          "text": "Price"
         }
        }
       }
      }
     },
     "metadata": {},
     "output_type": "display_data"
    }
   ],
   "source": [
    "# Model-level data\n",
    "fig = sp.make_subplots(rows=int(len(model_data.columns)/2), cols=2, subplot_titles=model_data.columns)\n",
    "color_discrete_sequence=px.colors.qualitative.Plotly  # Default color sequence\n",
    "\n",
    "for i, col in enumerate(model_data.columns, start=1):\n",
    "    fig.add_trace(go.Scatter(x=model_data.index, y=model_data[col], mode='lines', name=col, line=dict(color=color_discrete_sequence[(i-1) % len(color_discrete_sequence)])), row=int((i-1)/2)+1, col=((i-1)%2)+1)\n",
    "\n",
    "fig.update_layout(height=400*int(len(model_data.columns)/2), width=1600, title_text=\"\", showlegend=False)\n",
    "fig.show()\n",
    "\n",
    "# For Price1, Price2, and Energy Price\n",
    "fig = go.Figure()\n",
    "fig.add_trace(go.Scatter(x=model_data.index, y=model_data['Price Yellow Fuel'], mode='lines', name='Price Yellow Fuel', line=dict(color='gold')))\n",
    "fig.add_trace(go.Scatter(x=model_data.index, y=model_data['Price Brown Fuel'], mode='lines', name='Price Brown Fuel', line=dict(color='brown')))\n",
    "fig.add_trace(go.Scatter(x=model_data.index, y=model_data['Energy Price'], mode='lines', name='Energy Price', line=dict(color='green')))\n",
    "\n",
    "fig.update_layout(title='Prices over time', xaxis_title='Time (steps)', yaxis_title='Price', showlegend=False)\n",
    "fig.show()\n"
   ]
  },
  {
   "cell_type": "code",
   "execution_count": 8,
   "metadata": {},
   "outputs": [
    {
     "data": {
      "application/vnd.plotly.v1+json": {
       "config": {
        "plotlyServerURL": "https://plot.ly"
       },
       "data": [
        {
         "line": {
          "color": "#636EFA"
         },
         "mode": "lines",
         "name": "Inability",
         "type": "scatter",
         "x": [
          0,
          1,
          2,
          3,
          4,
          5,
          6,
          7,
          8,
          9,
          10,
          11,
          12,
          13,
          14
         ],
         "xaxis": "x",
         "y": [
          0.2,
          0.2,
          0.2,
          0.2,
          0.2,
          0.2,
          0.519,
          0.482,
          0.447,
          0.427,
          0.353,
          0.241,
          0.208,
          0.205,
          0.199
         ],
         "yaxis": "y"
        },
        {
         "line": {
          "color": "#EF553B"
         },
         "mode": "lines",
         "name": "Arrears",
         "type": "scatter",
         "x": [
          0,
          1,
          2,
          3,
          4,
          5,
          6,
          7,
          8,
          9,
          10,
          11,
          12,
          13,
          14
         ],
         "xaxis": "x2",
         "y": [
          94.91610369648053,
          88.66550210901721,
          82.62205047766922,
          76.21503565982603,
          69.67560938816479,
          62.95442412723688,
          56.50498452010148,
          49.774240062941054,
          42.89588663527569,
          35.829043692391,
          28.377077996246616,
          20.448604558600287,
          13.201696108128706,
          6.839685458205158,
          2.01266100493113
         ],
         "yaxis": "y2"
        },
        {
         "line": {
          "color": "#00CC96"
         },
         "mode": "lines",
         "name": "Allowences",
         "type": "scatter",
         "x": [
          0,
          1,
          2,
          3,
          4,
          5,
          6,
          7,
          8,
          9,
          10,
          11,
          12,
          13,
          14
         ],
         "xaxis": "x3",
         "y": [
          0,
          0,
          0,
          0,
          0,
          0,
          0,
          0,
          0,
          0,
          17.25,
          30.9,
          38.85,
          45.05,
          50
         ],
         "yaxis": "y3"
        },
        {
         "line": {
          "color": "#AB63FA"
         },
         "mode": "lines",
         "name": "Energy Price",
         "type": "scatter",
         "x": [
          0,
          1,
          2,
          3,
          4,
          5,
          6,
          7,
          8,
          9,
          10,
          11,
          12,
          13,
          14
         ],
         "xaxis": "x4",
         "y": [
          0.15799999999999997,
          0.157787554365661,
          0.15829563837278163,
          0.1601234765025851,
          0.16283066828620343,
          0.16260636178387697,
          0.23370364498506999,
          0.2320656124361427,
          0.2350084426690046,
          0.23785440881041597,
          0.23992154105019833,
          0.24154989058510568,
          0.24370715103258567,
          0.24692245727515563,
          0.24712152692151695
         ],
         "yaxis": "y4"
        },
        {
         "line": {
          "color": "#FFA15A"
         },
         "mode": "lines",
         "name": "Price Yellow Fuel",
         "type": "scatter",
         "x": [
          0,
          1,
          2,
          3,
          4,
          5,
          6,
          7,
          8,
          9,
          10,
          11,
          12,
          13,
          14
         ],
         "xaxis": "x5",
         "y": [
          0.2,
          0.19994187102003852,
          0.20088069886167442,
          0.20356695781651682,
          0.20742395256507093,
          0.20715063349275345,
          0.3085380761116324,
          0.3063070795272372,
          0.3105838234803753,
          0.31464564175940385,
          0.31757758872212305,
          0.3200457304782189,
          0.3232733716705916,
          0.32806308208223267,
          0.32829931358232006
         ],
         "yaxis": "y5"
        },
        {
         "line": {
          "color": "#19D3F3"
         },
         "mode": "lines",
         "name": "Price Brown Fuel",
         "type": "scatter",
         "x": [
          0,
          1,
          2,
          3,
          4,
          5,
          6,
          7,
          8,
          9,
          10,
          11,
          12,
          13,
          14
         ],
         "xaxis": "x6",
         "y": [
          0.06,
          0.05942748217211348,
          0.05893049723203188,
          0.05875535343674444,
          0.058779671635512655,
          0.058669727796498566,
          0.05908997235642428,
          0.05883552255692228,
          0.05866588744247305,
          0.058674865262777674,
          0.058724096482374054,
          0.05839293083450825,
          0.058052636210571815,
          0.05759433272530924,
          0.05770669137964317
         ],
         "yaxis": "y6"
        },
        {
         "line": {
          "color": "#FF6692"
         },
         "mode": "lines",
         "name": "Average Dwelling Over Time",
         "type": "scatter",
         "x": [
          0,
          1,
          2,
          3,
          4,
          5,
          6,
          7,
          8,
          9,
          10,
          11,
          12,
          13,
          14
         ],
         "xaxis": "x7",
         "y": [
          903.01,
          903.01,
          903.01,
          903.01,
          903.01,
          903.01,
          903.01,
          903.01,
          894.4005,
          894.4005,
          894.4005,
          894.4005,
          894.4005,
          894.4005,
          894.4005
         ],
         "yaxis": "y7"
        },
        {
         "line": {
          "color": "#B6E880"
         },
         "mode": "lines",
         "name": "Restorations",
         "type": "scatter",
         "x": [
          0,
          1,
          2,
          3,
          4,
          5,
          6,
          7,
          8,
          9,
          10,
          11,
          12,
          13,
          14
         ],
         "xaxis": "x8",
         "y": [
          0,
          0,
          0,
          0,
          0,
          0,
          0,
          0,
          23,
          23,
          23,
          23,
          23,
          23,
          23
         ],
         "yaxis": "y8"
        }
       ],
       "layout": {
        "annotations": [
         {
          "font": {
           "color": "black",
           "family": "Arial",
           "size": 24
          },
          "showarrow": false,
          "text": "Inability",
          "x": 0.225,
          "xanchor": "center",
          "xref": "paper",
          "y": 1,
          "yanchor": "bottom",
          "yref": "paper"
         },
         {
          "font": {
           "color": "black",
           "family": "Arial",
           "size": 24
          },
          "showarrow": false,
          "text": "Arrears",
          "x": 0.775,
          "xanchor": "center",
          "xref": "paper",
          "y": 1,
          "yanchor": "bottom",
          "yref": "paper"
         },
         {
          "font": {
           "color": "black",
           "family": "Arial",
           "size": 24
          },
          "showarrow": false,
          "text": "Allowences",
          "x": 0.225,
          "xanchor": "center",
          "xref": "paper",
          "y": 0.71875,
          "yanchor": "bottom",
          "yref": "paper"
         },
         {
          "font": {
           "color": "black",
           "family": "Arial",
           "size": 24
          },
          "showarrow": false,
          "text": "Energy Price",
          "x": 0.775,
          "xanchor": "center",
          "xref": "paper",
          "y": 0.71875,
          "yanchor": "bottom",
          "yref": "paper"
         },
         {
          "font": {
           "color": "black",
           "family": "Arial",
           "size": 24
          },
          "showarrow": false,
          "text": "Price Yellow Fuel",
          "x": 0.225,
          "xanchor": "center",
          "xref": "paper",
          "y": 0.4375,
          "yanchor": "bottom",
          "yref": "paper"
         },
         {
          "font": {
           "color": "black",
           "family": "Arial",
           "size": 24
          },
          "showarrow": false,
          "text": "Price Brown Fuel",
          "x": 0.775,
          "xanchor": "center",
          "xref": "paper",
          "y": 0.4375,
          "yanchor": "bottom",
          "yref": "paper"
         },
         {
          "font": {
           "color": "black",
           "family": "Arial",
           "size": 24
          },
          "showarrow": false,
          "text": "Average Dwelling Over Time",
          "x": 0.225,
          "xanchor": "center",
          "xref": "paper",
          "y": 0.15625,
          "yanchor": "bottom",
          "yref": "paper"
         },
         {
          "font": {
           "color": "black",
           "family": "Arial",
           "size": 24
          },
          "showarrow": false,
          "text": "Restorations",
          "x": 0.775,
          "xanchor": "center",
          "xref": "paper",
          "y": 0.15625,
          "yanchor": "bottom",
          "yref": "paper"
         }
        ],
        "height": 1600,
        "showlegend": false,
        "template": {
         "data": {
          "bar": [
           {
            "error_x": {
             "color": "#2a3f5f"
            },
            "error_y": {
             "color": "#2a3f5f"
            },
            "marker": {
             "line": {
              "color": "#E5ECF6",
              "width": 0.5
             },
             "pattern": {
              "fillmode": "overlay",
              "size": 10,
              "solidity": 0.2
             }
            },
            "type": "bar"
           }
          ],
          "barpolar": [
           {
            "marker": {
             "line": {
              "color": "#E5ECF6",
              "width": 0.5
             },
             "pattern": {
              "fillmode": "overlay",
              "size": 10,
              "solidity": 0.2
             }
            },
            "type": "barpolar"
           }
          ],
          "carpet": [
           {
            "aaxis": {
             "endlinecolor": "#2a3f5f",
             "gridcolor": "white",
             "linecolor": "white",
             "minorgridcolor": "white",
             "startlinecolor": "#2a3f5f"
            },
            "baxis": {
             "endlinecolor": "#2a3f5f",
             "gridcolor": "white",
             "linecolor": "white",
             "minorgridcolor": "white",
             "startlinecolor": "#2a3f5f"
            },
            "type": "carpet"
           }
          ],
          "choropleth": [
           {
            "colorbar": {
             "outlinewidth": 0,
             "ticks": ""
            },
            "type": "choropleth"
           }
          ],
          "contour": [
           {
            "colorbar": {
             "outlinewidth": 0,
             "ticks": ""
            },
            "colorscale": [
             [
              0,
              "#0d0887"
             ],
             [
              0.1111111111111111,
              "#46039f"
             ],
             [
              0.2222222222222222,
              "#7201a8"
             ],
             [
              0.3333333333333333,
              "#9c179e"
             ],
             [
              0.4444444444444444,
              "#bd3786"
             ],
             [
              0.5555555555555556,
              "#d8576b"
             ],
             [
              0.6666666666666666,
              "#ed7953"
             ],
             [
              0.7777777777777778,
              "#fb9f3a"
             ],
             [
              0.8888888888888888,
              "#fdca26"
             ],
             [
              1,
              "#f0f921"
             ]
            ],
            "type": "contour"
           }
          ],
          "contourcarpet": [
           {
            "colorbar": {
             "outlinewidth": 0,
             "ticks": ""
            },
            "type": "contourcarpet"
           }
          ],
          "heatmap": [
           {
            "colorbar": {
             "outlinewidth": 0,
             "ticks": ""
            },
            "colorscale": [
             [
              0,
              "#0d0887"
             ],
             [
              0.1111111111111111,
              "#46039f"
             ],
             [
              0.2222222222222222,
              "#7201a8"
             ],
             [
              0.3333333333333333,
              "#9c179e"
             ],
             [
              0.4444444444444444,
              "#bd3786"
             ],
             [
              0.5555555555555556,
              "#d8576b"
             ],
             [
              0.6666666666666666,
              "#ed7953"
             ],
             [
              0.7777777777777778,
              "#fb9f3a"
             ],
             [
              0.8888888888888888,
              "#fdca26"
             ],
             [
              1,
              "#f0f921"
             ]
            ],
            "type": "heatmap"
           }
          ],
          "heatmapgl": [
           {
            "colorbar": {
             "outlinewidth": 0,
             "ticks": ""
            },
            "colorscale": [
             [
              0,
              "#0d0887"
             ],
             [
              0.1111111111111111,
              "#46039f"
             ],
             [
              0.2222222222222222,
              "#7201a8"
             ],
             [
              0.3333333333333333,
              "#9c179e"
             ],
             [
              0.4444444444444444,
              "#bd3786"
             ],
             [
              0.5555555555555556,
              "#d8576b"
             ],
             [
              0.6666666666666666,
              "#ed7953"
             ],
             [
              0.7777777777777778,
              "#fb9f3a"
             ],
             [
              0.8888888888888888,
              "#fdca26"
             ],
             [
              1,
              "#f0f921"
             ]
            ],
            "type": "heatmapgl"
           }
          ],
          "histogram": [
           {
            "marker": {
             "pattern": {
              "fillmode": "overlay",
              "size": 10,
              "solidity": 0.2
             }
            },
            "type": "histogram"
           }
          ],
          "histogram2d": [
           {
            "colorbar": {
             "outlinewidth": 0,
             "ticks": ""
            },
            "colorscale": [
             [
              0,
              "#0d0887"
             ],
             [
              0.1111111111111111,
              "#46039f"
             ],
             [
              0.2222222222222222,
              "#7201a8"
             ],
             [
              0.3333333333333333,
              "#9c179e"
             ],
             [
              0.4444444444444444,
              "#bd3786"
             ],
             [
              0.5555555555555556,
              "#d8576b"
             ],
             [
              0.6666666666666666,
              "#ed7953"
             ],
             [
              0.7777777777777778,
              "#fb9f3a"
             ],
             [
              0.8888888888888888,
              "#fdca26"
             ],
             [
              1,
              "#f0f921"
             ]
            ],
            "type": "histogram2d"
           }
          ],
          "histogram2dcontour": [
           {
            "colorbar": {
             "outlinewidth": 0,
             "ticks": ""
            },
            "colorscale": [
             [
              0,
              "#0d0887"
             ],
             [
              0.1111111111111111,
              "#46039f"
             ],
             [
              0.2222222222222222,
              "#7201a8"
             ],
             [
              0.3333333333333333,
              "#9c179e"
             ],
             [
              0.4444444444444444,
              "#bd3786"
             ],
             [
              0.5555555555555556,
              "#d8576b"
             ],
             [
              0.6666666666666666,
              "#ed7953"
             ],
             [
              0.7777777777777778,
              "#fb9f3a"
             ],
             [
              0.8888888888888888,
              "#fdca26"
             ],
             [
              1,
              "#f0f921"
             ]
            ],
            "type": "histogram2dcontour"
           }
          ],
          "mesh3d": [
           {
            "colorbar": {
             "outlinewidth": 0,
             "ticks": ""
            },
            "type": "mesh3d"
           }
          ],
          "parcoords": [
           {
            "line": {
             "colorbar": {
              "outlinewidth": 0,
              "ticks": ""
             }
            },
            "type": "parcoords"
           }
          ],
          "pie": [
           {
            "automargin": true,
            "type": "pie"
           }
          ],
          "scatter": [
           {
            "fillpattern": {
             "fillmode": "overlay",
             "size": 10,
             "solidity": 0.2
            },
            "type": "scatter"
           }
          ],
          "scatter3d": [
           {
            "line": {
             "colorbar": {
              "outlinewidth": 0,
              "ticks": ""
             }
            },
            "marker": {
             "colorbar": {
              "outlinewidth": 0,
              "ticks": ""
             }
            },
            "type": "scatter3d"
           }
          ],
          "scattercarpet": [
           {
            "marker": {
             "colorbar": {
              "outlinewidth": 0,
              "ticks": ""
             }
            },
            "type": "scattercarpet"
           }
          ],
          "scattergeo": [
           {
            "marker": {
             "colorbar": {
              "outlinewidth": 0,
              "ticks": ""
             }
            },
            "type": "scattergeo"
           }
          ],
          "scattergl": [
           {
            "marker": {
             "colorbar": {
              "outlinewidth": 0,
              "ticks": ""
             }
            },
            "type": "scattergl"
           }
          ],
          "scattermapbox": [
           {
            "marker": {
             "colorbar": {
              "outlinewidth": 0,
              "ticks": ""
             }
            },
            "type": "scattermapbox"
           }
          ],
          "scatterpolar": [
           {
            "marker": {
             "colorbar": {
              "outlinewidth": 0,
              "ticks": ""
             }
            },
            "type": "scatterpolar"
           }
          ],
          "scatterpolargl": [
           {
            "marker": {
             "colorbar": {
              "outlinewidth": 0,
              "ticks": ""
             }
            },
            "type": "scatterpolargl"
           }
          ],
          "scatterternary": [
           {
            "marker": {
             "colorbar": {
              "outlinewidth": 0,
              "ticks": ""
             }
            },
            "type": "scatterternary"
           }
          ],
          "surface": [
           {
            "colorbar": {
             "outlinewidth": 0,
             "ticks": ""
            },
            "colorscale": [
             [
              0,
              "#0d0887"
             ],
             [
              0.1111111111111111,
              "#46039f"
             ],
             [
              0.2222222222222222,
              "#7201a8"
             ],
             [
              0.3333333333333333,
              "#9c179e"
             ],
             [
              0.4444444444444444,
              "#bd3786"
             ],
             [
              0.5555555555555556,
              "#d8576b"
             ],
             [
              0.6666666666666666,
              "#ed7953"
             ],
             [
              0.7777777777777778,
              "#fb9f3a"
             ],
             [
              0.8888888888888888,
              "#fdca26"
             ],
             [
              1,
              "#f0f921"
             ]
            ],
            "type": "surface"
           }
          ],
          "table": [
           {
            "cells": {
             "fill": {
              "color": "#EBF0F8"
             },
             "line": {
              "color": "white"
             }
            },
            "header": {
             "fill": {
              "color": "#C8D4E3"
             },
             "line": {
              "color": "white"
             }
            },
            "type": "table"
           }
          ]
         },
         "layout": {
          "annotationdefaults": {
           "arrowcolor": "#2a3f5f",
           "arrowhead": 0,
           "arrowwidth": 1
          },
          "autotypenumbers": "strict",
          "coloraxis": {
           "colorbar": {
            "outlinewidth": 0,
            "ticks": ""
           }
          },
          "colorscale": {
           "diverging": [
            [
             0,
             "#8e0152"
            ],
            [
             0.1,
             "#c51b7d"
            ],
            [
             0.2,
             "#de77ae"
            ],
            [
             0.3,
             "#f1b6da"
            ],
            [
             0.4,
             "#fde0ef"
            ],
            [
             0.5,
             "#f7f7f7"
            ],
            [
             0.6,
             "#e6f5d0"
            ],
            [
             0.7,
             "#b8e186"
            ],
            [
             0.8,
             "#7fbc41"
            ],
            [
             0.9,
             "#4d9221"
            ],
            [
             1,
             "#276419"
            ]
           ],
           "sequential": [
            [
             0,
             "#0d0887"
            ],
            [
             0.1111111111111111,
             "#46039f"
            ],
            [
             0.2222222222222222,
             "#7201a8"
            ],
            [
             0.3333333333333333,
             "#9c179e"
            ],
            [
             0.4444444444444444,
             "#bd3786"
            ],
            [
             0.5555555555555556,
             "#d8576b"
            ],
            [
             0.6666666666666666,
             "#ed7953"
            ],
            [
             0.7777777777777778,
             "#fb9f3a"
            ],
            [
             0.8888888888888888,
             "#fdca26"
            ],
            [
             1,
             "#f0f921"
            ]
           ],
           "sequentialminus": [
            [
             0,
             "#0d0887"
            ],
            [
             0.1111111111111111,
             "#46039f"
            ],
            [
             0.2222222222222222,
             "#7201a8"
            ],
            [
             0.3333333333333333,
             "#9c179e"
            ],
            [
             0.4444444444444444,
             "#bd3786"
            ],
            [
             0.5555555555555556,
             "#d8576b"
            ],
            [
             0.6666666666666666,
             "#ed7953"
            ],
            [
             0.7777777777777778,
             "#fb9f3a"
            ],
            [
             0.8888888888888888,
             "#fdca26"
            ],
            [
             1,
             "#f0f921"
            ]
           ]
          },
          "colorway": [
           "#636efa",
           "#EF553B",
           "#00cc96",
           "#ab63fa",
           "#FFA15A",
           "#19d3f3",
           "#FF6692",
           "#B6E880",
           "#FF97FF",
           "#FECB52"
          ],
          "font": {
           "color": "#2a3f5f"
          },
          "geo": {
           "bgcolor": "white",
           "lakecolor": "white",
           "landcolor": "#E5ECF6",
           "showlakes": true,
           "showland": true,
           "subunitcolor": "white"
          },
          "hoverlabel": {
           "align": "left"
          },
          "hovermode": "closest",
          "mapbox": {
           "style": "light"
          },
          "paper_bgcolor": "white",
          "plot_bgcolor": "#E5ECF6",
          "polar": {
           "angularaxis": {
            "gridcolor": "white",
            "linecolor": "white",
            "ticks": ""
           },
           "bgcolor": "#E5ECF6",
           "radialaxis": {
            "gridcolor": "white",
            "linecolor": "white",
            "ticks": ""
           }
          },
          "scene": {
           "xaxis": {
            "backgroundcolor": "#E5ECF6",
            "gridcolor": "white",
            "gridwidth": 2,
            "linecolor": "white",
            "showbackground": true,
            "ticks": "",
            "zerolinecolor": "white"
           },
           "yaxis": {
            "backgroundcolor": "#E5ECF6",
            "gridcolor": "white",
            "gridwidth": 2,
            "linecolor": "white",
            "showbackground": true,
            "ticks": "",
            "zerolinecolor": "white"
           },
           "zaxis": {
            "backgroundcolor": "#E5ECF6",
            "gridcolor": "white",
            "gridwidth": 2,
            "linecolor": "white",
            "showbackground": true,
            "ticks": "",
            "zerolinecolor": "white"
           }
          },
          "shapedefaults": {
           "line": {
            "color": "#2a3f5f"
           }
          },
          "ternary": {
           "aaxis": {
            "gridcolor": "white",
            "linecolor": "white",
            "ticks": ""
           },
           "baxis": {
            "gridcolor": "white",
            "linecolor": "white",
            "ticks": ""
           },
           "bgcolor": "#E5ECF6",
           "caxis": {
            "gridcolor": "white",
            "linecolor": "white",
            "ticks": ""
           }
          },
          "title": {
           "x": 0.05
          },
          "xaxis": {
           "automargin": true,
           "gridcolor": "white",
           "linecolor": "white",
           "ticks": "",
           "title": {
            "standoff": 15
           },
           "zerolinecolor": "white",
           "zerolinewidth": 2
          },
          "yaxis": {
           "automargin": true,
           "gridcolor": "white",
           "linecolor": "white",
           "ticks": "",
           "title": {
            "standoff": 15
           },
           "zerolinecolor": "white",
           "zerolinewidth": 2
          }
         }
        },
        "title": {
         "text": ""
        },
        "width": 1600,
        "xaxis": {
         "anchor": "y",
         "domain": [
          0,
          0.45
         ]
        },
        "xaxis2": {
         "anchor": "y2",
         "domain": [
          0.55,
          1
         ]
        },
        "xaxis3": {
         "anchor": "y3",
         "domain": [
          0,
          0.45
         ]
        },
        "xaxis4": {
         "anchor": "y4",
         "domain": [
          0.55,
          1
         ]
        },
        "xaxis5": {
         "anchor": "y5",
         "domain": [
          0,
          0.45
         ]
        },
        "xaxis6": {
         "anchor": "y6",
         "domain": [
          0.55,
          1
         ]
        },
        "xaxis7": {
         "anchor": "y7",
         "domain": [
          0,
          0.45
         ]
        },
        "xaxis8": {
         "anchor": "y8",
         "domain": [
          0.55,
          1
         ]
        },
        "yaxis": {
         "anchor": "x",
         "domain": [
          0.84375,
          1
         ]
        },
        "yaxis2": {
         "anchor": "x2",
         "domain": [
          0.84375,
          1
         ]
        },
        "yaxis3": {
         "anchor": "x3",
         "domain": [
          0.5625,
          0.71875
         ]
        },
        "yaxis4": {
         "anchor": "x4",
         "domain": [
          0.5625,
          0.71875
         ]
        },
        "yaxis5": {
         "anchor": "x5",
         "domain": [
          0.28125,
          0.4375
         ]
        },
        "yaxis6": {
         "anchor": "x6",
         "domain": [
          0.28125,
          0.4375
         ]
        },
        "yaxis7": {
         "anchor": "x7",
         "domain": [
          0,
          0.15625
         ]
        },
        "yaxis8": {
         "anchor": "x8",
         "domain": [
          0,
          0.15625
         ]
        }
       }
      }
     },
     "metadata": {},
     "output_type": "display_data"
    }
   ],
   "source": [
    "# Model-level data\n",
    "fig = sp.make_subplots(rows=int(len(model_data.columns)/2), cols=2, subplot_titles=model_data.columns)\n",
    "color_discrete_sequence=px.colors.qualitative.Plotly  # Default color sequence\n",
    "\n",
    "for i, col in enumerate(model_data.columns, start=1):\n",
    "    fig.add_trace(go.Scatter(x=model_data.index, y=model_data[col], mode='lines', name=col, line=dict(color=color_discrete_sequence[(i-1) % len(color_discrete_sequence)])), row=int((i-1)/2)+1, col=((i-1)%2)+1)\n",
    "\n",
    "fig.update_layout(height=400*int(len(model_data.columns)/2), width=1600, title_text=\"\", showlegend=False)\n",
    "\n",
    "# Update the subplot titles\n",
    "for i in fig['layout']['annotations']:\n",
    "    i['font'] = dict(size=24, color='black', family=\"Arial\")  # Adjust size, color, and font here\n",
    "\n",
    "fig.show()\n"
   ]
  },
  {
   "cell_type": "code",
   "execution_count": 9,
   "metadata": {},
   "outputs": [
    {
     "data": {
      "application/vnd.plotly.v1+json": {
       "config": {
        "plotlyServerURL": "https://plot.ly"
       },
       "data": [
        {
         "line": {
          "color": "#636EFA"
         },
         "mode": "lines",
         "name": "Inability",
         "type": "scatter",
         "x": [
          0,
          1,
          2,
          3,
          4,
          5,
          6,
          7,
          8,
          9,
          10,
          11,
          12,
          13,
          14
         ],
         "xaxis": "x",
         "y": [
          0.2,
          0.2,
          0.2,
          0.2,
          0.2,
          0.2,
          0.519,
          0.482,
          0.447,
          0.427,
          0.353,
          0.241,
          0.208,
          0.205,
          0.199
         ],
         "yaxis": "y"
        },
        {
         "line": {
          "color": "#EF553B"
         },
         "mode": "lines",
         "name": "Arrears",
         "type": "scatter",
         "x": [
          0,
          1,
          2,
          3,
          4,
          5,
          6,
          7,
          8,
          9,
          10,
          11,
          12,
          13,
          14
         ],
         "xaxis": "x2",
         "y": [
          94.91610369648053,
          88.66550210901721,
          82.62205047766922,
          76.21503565982603,
          69.67560938816479,
          62.95442412723688,
          56.50498452010148,
          49.774240062941054,
          42.89588663527569,
          35.829043692391,
          28.377077996246616,
          20.448604558600287,
          13.201696108128706,
          6.839685458205158,
          2.01266100493113
         ],
         "yaxis": "y2"
        },
        {
         "line": {
          "color": "#00CC96"
         },
         "mode": "lines",
         "name": "Allowences",
         "type": "scatter",
         "x": [
          0,
          1,
          2,
          3,
          4,
          5,
          6,
          7,
          8,
          9,
          10,
          11,
          12,
          13,
          14
         ],
         "xaxis": "x3",
         "y": [
          0,
          0,
          0,
          0,
          0,
          0,
          0,
          0,
          0,
          0,
          17.25,
          30.9,
          38.85,
          45.05,
          50
         ],
         "yaxis": "y3"
        },
        {
         "line": {
          "color": "#AB63FA"
         },
         "mode": "lines",
         "name": "Energy Price",
         "type": "scatter",
         "x": [
          0,
          1,
          2,
          3,
          4,
          5,
          6,
          7,
          8,
          9,
          10,
          11,
          12,
          13,
          14
         ],
         "xaxis": "x4",
         "y": [
          0.15799999999999997,
          0.157787554365661,
          0.15829563837278163,
          0.1601234765025851,
          0.16283066828620343,
          0.16260636178387697,
          0.23370364498506999,
          0.2320656124361427,
          0.2350084426690046,
          0.23785440881041597,
          0.23992154105019833,
          0.24154989058510568,
          0.24370715103258567,
          0.24692245727515563,
          0.24712152692151695
         ],
         "yaxis": "y4"
        },
        {
         "line": {
          "color": "#FFA15A"
         },
         "mode": "lines",
         "name": "Price Yellow Fuel",
         "type": "scatter",
         "x": [
          0,
          1,
          2,
          3,
          4,
          5,
          6,
          7,
          8,
          9,
          10,
          11,
          12,
          13,
          14
         ],
         "xaxis": "x5",
         "y": [
          0.2,
          0.19994187102003852,
          0.20088069886167442,
          0.20356695781651682,
          0.20742395256507093,
          0.20715063349275345,
          0.3085380761116324,
          0.3063070795272372,
          0.3105838234803753,
          0.31464564175940385,
          0.31757758872212305,
          0.3200457304782189,
          0.3232733716705916,
          0.32806308208223267,
          0.32829931358232006
         ],
         "yaxis": "y5"
        },
        {
         "line": {
          "color": "#19D3F3"
         },
         "mode": "lines",
         "name": "Price Brown Fuel",
         "type": "scatter",
         "x": [
          0,
          1,
          2,
          3,
          4,
          5,
          6,
          7,
          8,
          9,
          10,
          11,
          12,
          13,
          14
         ],
         "xaxis": "x6",
         "y": [
          0.06,
          0.05942748217211348,
          0.05893049723203188,
          0.05875535343674444,
          0.058779671635512655,
          0.058669727796498566,
          0.05908997235642428,
          0.05883552255692228,
          0.05866588744247305,
          0.058674865262777674,
          0.058724096482374054,
          0.05839293083450825,
          0.058052636210571815,
          0.05759433272530924,
          0.05770669137964317
         ],
         "yaxis": "y6"
        },
        {
         "line": {
          "color": "#FF6692"
         },
         "mode": "lines",
         "name": "Average Dwelling Over Time",
         "type": "scatter",
         "x": [
          0,
          1,
          2,
          3,
          4,
          5,
          6,
          7,
          8,
          9,
          10,
          11,
          12,
          13,
          14
         ],
         "xaxis": "x7",
         "y": [
          903.01,
          903.01,
          903.01,
          903.01,
          903.01,
          903.01,
          903.01,
          903.01,
          894.4005,
          894.4005,
          894.4005,
          894.4005,
          894.4005,
          894.4005,
          894.4005
         ],
         "yaxis": "y7"
        },
        {
         "line": {
          "color": "#B6E880"
         },
         "mode": "lines",
         "name": "Restorations",
         "type": "scatter",
         "x": [
          0,
          1,
          2,
          3,
          4,
          5,
          6,
          7,
          8,
          9,
          10,
          11,
          12,
          13,
          14
         ],
         "xaxis": "x8",
         "y": [
          0,
          0,
          0,
          0,
          0,
          0,
          0,
          0,
          23,
          23,
          23,
          23,
          23,
          23,
          23
         ],
         "yaxis": "y8"
        }
       ],
       "layout": {
        "annotations": [
         {
          "font": {
           "size": 16
          },
          "showarrow": false,
          "text": "Inability",
          "x": 0.225,
          "xanchor": "center",
          "xref": "paper",
          "y": 1,
          "yanchor": "bottom",
          "yref": "paper"
         },
         {
          "font": {
           "size": 16
          },
          "showarrow": false,
          "text": "Arrears",
          "x": 0.775,
          "xanchor": "center",
          "xref": "paper",
          "y": 1,
          "yanchor": "bottom",
          "yref": "paper"
         },
         {
          "font": {
           "size": 16
          },
          "showarrow": false,
          "text": "Allowences",
          "x": 0.225,
          "xanchor": "center",
          "xref": "paper",
          "y": 0.71875,
          "yanchor": "bottom",
          "yref": "paper"
         },
         {
          "font": {
           "size": 16
          },
          "showarrow": false,
          "text": "Energy Price",
          "x": 0.775,
          "xanchor": "center",
          "xref": "paper",
          "y": 0.71875,
          "yanchor": "bottom",
          "yref": "paper"
         },
         {
          "font": {
           "size": 16
          },
          "showarrow": false,
          "text": "Price Yellow Fuel",
          "x": 0.225,
          "xanchor": "center",
          "xref": "paper",
          "y": 0.4375,
          "yanchor": "bottom",
          "yref": "paper"
         },
         {
          "font": {
           "size": 16
          },
          "showarrow": false,
          "text": "Price Brown Fuel",
          "x": 0.775,
          "xanchor": "center",
          "xref": "paper",
          "y": 0.4375,
          "yanchor": "bottom",
          "yref": "paper"
         },
         {
          "font": {
           "size": 16
          },
          "showarrow": false,
          "text": "Average Dwelling Over Time",
          "x": 0.225,
          "xanchor": "center",
          "xref": "paper",
          "y": 0.15625,
          "yanchor": "bottom",
          "yref": "paper"
         },
         {
          "font": {
           "size": 16
          },
          "showarrow": false,
          "text": "Restorations",
          "x": 0.775,
          "xanchor": "center",
          "xref": "paper",
          "y": 0.15625,
          "yanchor": "bottom",
          "yref": "paper"
         }
        ],
        "height": 1600,
        "showlegend": false,
        "template": {
         "data": {
          "bar": [
           {
            "error_x": {
             "color": "#2a3f5f"
            },
            "error_y": {
             "color": "#2a3f5f"
            },
            "marker": {
             "line": {
              "color": "#E5ECF6",
              "width": 0.5
             },
             "pattern": {
              "fillmode": "overlay",
              "size": 10,
              "solidity": 0.2
             }
            },
            "type": "bar"
           }
          ],
          "barpolar": [
           {
            "marker": {
             "line": {
              "color": "#E5ECF6",
              "width": 0.5
             },
             "pattern": {
              "fillmode": "overlay",
              "size": 10,
              "solidity": 0.2
             }
            },
            "type": "barpolar"
           }
          ],
          "carpet": [
           {
            "aaxis": {
             "endlinecolor": "#2a3f5f",
             "gridcolor": "white",
             "linecolor": "white",
             "minorgridcolor": "white",
             "startlinecolor": "#2a3f5f"
            },
            "baxis": {
             "endlinecolor": "#2a3f5f",
             "gridcolor": "white",
             "linecolor": "white",
             "minorgridcolor": "white",
             "startlinecolor": "#2a3f5f"
            },
            "type": "carpet"
           }
          ],
          "choropleth": [
           {
            "colorbar": {
             "outlinewidth": 0,
             "ticks": ""
            },
            "type": "choropleth"
           }
          ],
          "contour": [
           {
            "colorbar": {
             "outlinewidth": 0,
             "ticks": ""
            },
            "colorscale": [
             [
              0,
              "#0d0887"
             ],
             [
              0.1111111111111111,
              "#46039f"
             ],
             [
              0.2222222222222222,
              "#7201a8"
             ],
             [
              0.3333333333333333,
              "#9c179e"
             ],
             [
              0.4444444444444444,
              "#bd3786"
             ],
             [
              0.5555555555555556,
              "#d8576b"
             ],
             [
              0.6666666666666666,
              "#ed7953"
             ],
             [
              0.7777777777777778,
              "#fb9f3a"
             ],
             [
              0.8888888888888888,
              "#fdca26"
             ],
             [
              1,
              "#f0f921"
             ]
            ],
            "type": "contour"
           }
          ],
          "contourcarpet": [
           {
            "colorbar": {
             "outlinewidth": 0,
             "ticks": ""
            },
            "type": "contourcarpet"
           }
          ],
          "heatmap": [
           {
            "colorbar": {
             "outlinewidth": 0,
             "ticks": ""
            },
            "colorscale": [
             [
              0,
              "#0d0887"
             ],
             [
              0.1111111111111111,
              "#46039f"
             ],
             [
              0.2222222222222222,
              "#7201a8"
             ],
             [
              0.3333333333333333,
              "#9c179e"
             ],
             [
              0.4444444444444444,
              "#bd3786"
             ],
             [
              0.5555555555555556,
              "#d8576b"
             ],
             [
              0.6666666666666666,
              "#ed7953"
             ],
             [
              0.7777777777777778,
              "#fb9f3a"
             ],
             [
              0.8888888888888888,
              "#fdca26"
             ],
             [
              1,
              "#f0f921"
             ]
            ],
            "type": "heatmap"
           }
          ],
          "heatmapgl": [
           {
            "colorbar": {
             "outlinewidth": 0,
             "ticks": ""
            },
            "colorscale": [
             [
              0,
              "#0d0887"
             ],
             [
              0.1111111111111111,
              "#46039f"
             ],
             [
              0.2222222222222222,
              "#7201a8"
             ],
             [
              0.3333333333333333,
              "#9c179e"
             ],
             [
              0.4444444444444444,
              "#bd3786"
             ],
             [
              0.5555555555555556,
              "#d8576b"
             ],
             [
              0.6666666666666666,
              "#ed7953"
             ],
             [
              0.7777777777777778,
              "#fb9f3a"
             ],
             [
              0.8888888888888888,
              "#fdca26"
             ],
             [
              1,
              "#f0f921"
             ]
            ],
            "type": "heatmapgl"
           }
          ],
          "histogram": [
           {
            "marker": {
             "pattern": {
              "fillmode": "overlay",
              "size": 10,
              "solidity": 0.2
             }
            },
            "type": "histogram"
           }
          ],
          "histogram2d": [
           {
            "colorbar": {
             "outlinewidth": 0,
             "ticks": ""
            },
            "colorscale": [
             [
              0,
              "#0d0887"
             ],
             [
              0.1111111111111111,
              "#46039f"
             ],
             [
              0.2222222222222222,
              "#7201a8"
             ],
             [
              0.3333333333333333,
              "#9c179e"
             ],
             [
              0.4444444444444444,
              "#bd3786"
             ],
             [
              0.5555555555555556,
              "#d8576b"
             ],
             [
              0.6666666666666666,
              "#ed7953"
             ],
             [
              0.7777777777777778,
              "#fb9f3a"
             ],
             [
              0.8888888888888888,
              "#fdca26"
             ],
             [
              1,
              "#f0f921"
             ]
            ],
            "type": "histogram2d"
           }
          ],
          "histogram2dcontour": [
           {
            "colorbar": {
             "outlinewidth": 0,
             "ticks": ""
            },
            "colorscale": [
             [
              0,
              "#0d0887"
             ],
             [
              0.1111111111111111,
              "#46039f"
             ],
             [
              0.2222222222222222,
              "#7201a8"
             ],
             [
              0.3333333333333333,
              "#9c179e"
             ],
             [
              0.4444444444444444,
              "#bd3786"
             ],
             [
              0.5555555555555556,
              "#d8576b"
             ],
             [
              0.6666666666666666,
              "#ed7953"
             ],
             [
              0.7777777777777778,
              "#fb9f3a"
             ],
             [
              0.8888888888888888,
              "#fdca26"
             ],
             [
              1,
              "#f0f921"
             ]
            ],
            "type": "histogram2dcontour"
           }
          ],
          "mesh3d": [
           {
            "colorbar": {
             "outlinewidth": 0,
             "ticks": ""
            },
            "type": "mesh3d"
           }
          ],
          "parcoords": [
           {
            "line": {
             "colorbar": {
              "outlinewidth": 0,
              "ticks": ""
             }
            },
            "type": "parcoords"
           }
          ],
          "pie": [
           {
            "automargin": true,
            "type": "pie"
           }
          ],
          "scatter": [
           {
            "fillpattern": {
             "fillmode": "overlay",
             "size": 10,
             "solidity": 0.2
            },
            "type": "scatter"
           }
          ],
          "scatter3d": [
           {
            "line": {
             "colorbar": {
              "outlinewidth": 0,
              "ticks": ""
             }
            },
            "marker": {
             "colorbar": {
              "outlinewidth": 0,
              "ticks": ""
             }
            },
            "type": "scatter3d"
           }
          ],
          "scattercarpet": [
           {
            "marker": {
             "colorbar": {
              "outlinewidth": 0,
              "ticks": ""
             }
            },
            "type": "scattercarpet"
           }
          ],
          "scattergeo": [
           {
            "marker": {
             "colorbar": {
              "outlinewidth": 0,
              "ticks": ""
             }
            },
            "type": "scattergeo"
           }
          ],
          "scattergl": [
           {
            "marker": {
             "colorbar": {
              "outlinewidth": 0,
              "ticks": ""
             }
            },
            "type": "scattergl"
           }
          ],
          "scattermapbox": [
           {
            "marker": {
             "colorbar": {
              "outlinewidth": 0,
              "ticks": ""
             }
            },
            "type": "scattermapbox"
           }
          ],
          "scatterpolar": [
           {
            "marker": {
             "colorbar": {
              "outlinewidth": 0,
              "ticks": ""
             }
            },
            "type": "scatterpolar"
           }
          ],
          "scatterpolargl": [
           {
            "marker": {
             "colorbar": {
              "outlinewidth": 0,
              "ticks": ""
             }
            },
            "type": "scatterpolargl"
           }
          ],
          "scatterternary": [
           {
            "marker": {
             "colorbar": {
              "outlinewidth": 0,
              "ticks": ""
             }
            },
            "type": "scatterternary"
           }
          ],
          "surface": [
           {
            "colorbar": {
             "outlinewidth": 0,
             "ticks": ""
            },
            "colorscale": [
             [
              0,
              "#0d0887"
             ],
             [
              0.1111111111111111,
              "#46039f"
             ],
             [
              0.2222222222222222,
              "#7201a8"
             ],
             [
              0.3333333333333333,
              "#9c179e"
             ],
             [
              0.4444444444444444,
              "#bd3786"
             ],
             [
              0.5555555555555556,
              "#d8576b"
             ],
             [
              0.6666666666666666,
              "#ed7953"
             ],
             [
              0.7777777777777778,
              "#fb9f3a"
             ],
             [
              0.8888888888888888,
              "#fdca26"
             ],
             [
              1,
              "#f0f921"
             ]
            ],
            "type": "surface"
           }
          ],
          "table": [
           {
            "cells": {
             "fill": {
              "color": "#EBF0F8"
             },
             "line": {
              "color": "white"
             }
            },
            "header": {
             "fill": {
              "color": "#C8D4E3"
             },
             "line": {
              "color": "white"
             }
            },
            "type": "table"
           }
          ]
         },
         "layout": {
          "annotationdefaults": {
           "arrowcolor": "#2a3f5f",
           "arrowhead": 0,
           "arrowwidth": 1
          },
          "autotypenumbers": "strict",
          "coloraxis": {
           "colorbar": {
            "outlinewidth": 0,
            "ticks": ""
           }
          },
          "colorscale": {
           "diverging": [
            [
             0,
             "#8e0152"
            ],
            [
             0.1,
             "#c51b7d"
            ],
            [
             0.2,
             "#de77ae"
            ],
            [
             0.3,
             "#f1b6da"
            ],
            [
             0.4,
             "#fde0ef"
            ],
            [
             0.5,
             "#f7f7f7"
            ],
            [
             0.6,
             "#e6f5d0"
            ],
            [
             0.7,
             "#b8e186"
            ],
            [
             0.8,
             "#7fbc41"
            ],
            [
             0.9,
             "#4d9221"
            ],
            [
             1,
             "#276419"
            ]
           ],
           "sequential": [
            [
             0,
             "#0d0887"
            ],
            [
             0.1111111111111111,
             "#46039f"
            ],
            [
             0.2222222222222222,
             "#7201a8"
            ],
            [
             0.3333333333333333,
             "#9c179e"
            ],
            [
             0.4444444444444444,
             "#bd3786"
            ],
            [
             0.5555555555555556,
             "#d8576b"
            ],
            [
             0.6666666666666666,
             "#ed7953"
            ],
            [
             0.7777777777777778,
             "#fb9f3a"
            ],
            [
             0.8888888888888888,
             "#fdca26"
            ],
            [
             1,
             "#f0f921"
            ]
           ],
           "sequentialminus": [
            [
             0,
             "#0d0887"
            ],
            [
             0.1111111111111111,
             "#46039f"
            ],
            [
             0.2222222222222222,
             "#7201a8"
            ],
            [
             0.3333333333333333,
             "#9c179e"
            ],
            [
             0.4444444444444444,
             "#bd3786"
            ],
            [
             0.5555555555555556,
             "#d8576b"
            ],
            [
             0.6666666666666666,
             "#ed7953"
            ],
            [
             0.7777777777777778,
             "#fb9f3a"
            ],
            [
             0.8888888888888888,
             "#fdca26"
            ],
            [
             1,
             "#f0f921"
            ]
           ]
          },
          "colorway": [
           "#636efa",
           "#EF553B",
           "#00cc96",
           "#ab63fa",
           "#FFA15A",
           "#19d3f3",
           "#FF6692",
           "#B6E880",
           "#FF97FF",
           "#FECB52"
          ],
          "font": {
           "color": "#2a3f5f"
          },
          "geo": {
           "bgcolor": "white",
           "lakecolor": "white",
           "landcolor": "#E5ECF6",
           "showlakes": true,
           "showland": true,
           "subunitcolor": "white"
          },
          "hoverlabel": {
           "align": "left"
          },
          "hovermode": "closest",
          "mapbox": {
           "style": "light"
          },
          "paper_bgcolor": "white",
          "plot_bgcolor": "#E5ECF6",
          "polar": {
           "angularaxis": {
            "gridcolor": "white",
            "linecolor": "white",
            "ticks": ""
           },
           "bgcolor": "#E5ECF6",
           "radialaxis": {
            "gridcolor": "white",
            "linecolor": "white",
            "ticks": ""
           }
          },
          "scene": {
           "xaxis": {
            "backgroundcolor": "#E5ECF6",
            "gridcolor": "white",
            "gridwidth": 2,
            "linecolor": "white",
            "showbackground": true,
            "ticks": "",
            "zerolinecolor": "white"
           },
           "yaxis": {
            "backgroundcolor": "#E5ECF6",
            "gridcolor": "white",
            "gridwidth": 2,
            "linecolor": "white",
            "showbackground": true,
            "ticks": "",
            "zerolinecolor": "white"
           },
           "zaxis": {
            "backgroundcolor": "#E5ECF6",
            "gridcolor": "white",
            "gridwidth": 2,
            "linecolor": "white",
            "showbackground": true,
            "ticks": "",
            "zerolinecolor": "white"
           }
          },
          "shapedefaults": {
           "line": {
            "color": "#2a3f5f"
           }
          },
          "ternary": {
           "aaxis": {
            "gridcolor": "white",
            "linecolor": "white",
            "ticks": ""
           },
           "baxis": {
            "gridcolor": "white",
            "linecolor": "white",
            "ticks": ""
           },
           "bgcolor": "#E5ECF6",
           "caxis": {
            "gridcolor": "white",
            "linecolor": "white",
            "ticks": ""
           }
          },
          "title": {
           "x": 0.05
          },
          "xaxis": {
           "automargin": true,
           "gridcolor": "white",
           "linecolor": "white",
           "ticks": "",
           "title": {
            "standoff": 15
           },
           "zerolinecolor": "white",
           "zerolinewidth": 2
          },
          "yaxis": {
           "automargin": true,
           "gridcolor": "white",
           "linecolor": "white",
           "ticks": "",
           "title": {
            "standoff": 15
           },
           "zerolinecolor": "white",
           "zerolinewidth": 2
          }
         }
        },
        "title": {
         "font": {
          "color": "black",
          "family": "Courier New, monospace",
          "size": 24
         },
         "text": ""
        },
        "width": 1600,
        "xaxis": {
         "anchor": "y",
         "domain": [
          0,
          0.45
         ]
        },
        "xaxis2": {
         "anchor": "y2",
         "domain": [
          0.55,
          1
         ]
        },
        "xaxis3": {
         "anchor": "y3",
         "domain": [
          0,
          0.45
         ]
        },
        "xaxis4": {
         "anchor": "y4",
         "domain": [
          0.55,
          1
         ]
        },
        "xaxis5": {
         "anchor": "y5",
         "domain": [
          0,
          0.45
         ]
        },
        "xaxis6": {
         "anchor": "y6",
         "domain": [
          0.55,
          1
         ]
        },
        "xaxis7": {
         "anchor": "y7",
         "domain": [
          0,
          0.45
         ]
        },
        "xaxis8": {
         "anchor": "y8",
         "domain": [
          0.55,
          1
         ]
        },
        "yaxis": {
         "anchor": "x",
         "domain": [
          0.84375,
          1
         ]
        },
        "yaxis2": {
         "anchor": "x2",
         "domain": [
          0.84375,
          1
         ]
        },
        "yaxis3": {
         "anchor": "x3",
         "domain": [
          0.5625,
          0.71875
         ]
        },
        "yaxis4": {
         "anchor": "x4",
         "domain": [
          0.5625,
          0.71875
         ]
        },
        "yaxis5": {
         "anchor": "x5",
         "domain": [
          0.28125,
          0.4375
         ]
        },
        "yaxis6": {
         "anchor": "x6",
         "domain": [
          0.28125,
          0.4375
         ]
        },
        "yaxis7": {
         "anchor": "x7",
         "domain": [
          0,
          0.15625
         ]
        },
        "yaxis8": {
         "anchor": "x8",
         "domain": [
          0,
          0.15625
         ]
        }
       }
      }
     },
     "metadata": {},
     "output_type": "display_data"
    },
    {
     "data": {
      "application/vnd.plotly.v1+json": {
       "config": {
        "plotlyServerURL": "https://plot.ly"
       },
       "data": [
        {
         "line": {
          "color": "gold"
         },
         "mode": "lines",
         "name": "Price Yellow Fuel",
         "type": "scatter",
         "x": [
          0,
          1,
          2,
          3,
          4,
          5,
          6,
          7,
          8,
          9,
          10,
          11,
          12,
          13,
          14
         ],
         "y": [
          0.2,
          0.19994187102003852,
          0.20088069886167442,
          0.20356695781651682,
          0.20742395256507093,
          0.20715063349275345,
          0.3085380761116324,
          0.3063070795272372,
          0.3105838234803753,
          0.31464564175940385,
          0.31757758872212305,
          0.3200457304782189,
          0.3232733716705916,
          0.32806308208223267,
          0.32829931358232006
         ]
        },
        {
         "line": {
          "color": "brown"
         },
         "mode": "lines",
         "name": "Price Brown Fuel",
         "type": "scatter",
         "x": [
          0,
          1,
          2,
          3,
          4,
          5,
          6,
          7,
          8,
          9,
          10,
          11,
          12,
          13,
          14
         ],
         "y": [
          0.06,
          0.05942748217211348,
          0.05893049723203188,
          0.05875535343674444,
          0.058779671635512655,
          0.058669727796498566,
          0.05908997235642428,
          0.05883552255692228,
          0.05866588744247305,
          0.058674865262777674,
          0.058724096482374054,
          0.05839293083450825,
          0.058052636210571815,
          0.05759433272530924,
          0.05770669137964317
         ]
        },
        {
         "line": {
          "color": "green"
         },
         "mode": "lines",
         "name": "Energy Price",
         "type": "scatter",
         "x": [
          0,
          1,
          2,
          3,
          4,
          5,
          6,
          7,
          8,
          9,
          10,
          11,
          12,
          13,
          14
         ],
         "y": [
          0.15799999999999997,
          0.157787554365661,
          0.15829563837278163,
          0.1601234765025851,
          0.16283066828620343,
          0.16260636178387697,
          0.23370364498506999,
          0.2320656124361427,
          0.2350084426690046,
          0.23785440881041597,
          0.23992154105019833,
          0.24154989058510568,
          0.24370715103258567,
          0.24692245727515563,
          0.24712152692151695
         ]
        }
       ],
       "layout": {
        "showlegend": false,
        "template": {
         "data": {
          "bar": [
           {
            "error_x": {
             "color": "#2a3f5f"
            },
            "error_y": {
             "color": "#2a3f5f"
            },
            "marker": {
             "line": {
              "color": "#E5ECF6",
              "width": 0.5
             },
             "pattern": {
              "fillmode": "overlay",
              "size": 10,
              "solidity": 0.2
             }
            },
            "type": "bar"
           }
          ],
          "barpolar": [
           {
            "marker": {
             "line": {
              "color": "#E5ECF6",
              "width": 0.5
             },
             "pattern": {
              "fillmode": "overlay",
              "size": 10,
              "solidity": 0.2
             }
            },
            "type": "barpolar"
           }
          ],
          "carpet": [
           {
            "aaxis": {
             "endlinecolor": "#2a3f5f",
             "gridcolor": "white",
             "linecolor": "white",
             "minorgridcolor": "white",
             "startlinecolor": "#2a3f5f"
            },
            "baxis": {
             "endlinecolor": "#2a3f5f",
             "gridcolor": "white",
             "linecolor": "white",
             "minorgridcolor": "white",
             "startlinecolor": "#2a3f5f"
            },
            "type": "carpet"
           }
          ],
          "choropleth": [
           {
            "colorbar": {
             "outlinewidth": 0,
             "ticks": ""
            },
            "type": "choropleth"
           }
          ],
          "contour": [
           {
            "colorbar": {
             "outlinewidth": 0,
             "ticks": ""
            },
            "colorscale": [
             [
              0,
              "#0d0887"
             ],
             [
              0.1111111111111111,
              "#46039f"
             ],
             [
              0.2222222222222222,
              "#7201a8"
             ],
             [
              0.3333333333333333,
              "#9c179e"
             ],
             [
              0.4444444444444444,
              "#bd3786"
             ],
             [
              0.5555555555555556,
              "#d8576b"
             ],
             [
              0.6666666666666666,
              "#ed7953"
             ],
             [
              0.7777777777777778,
              "#fb9f3a"
             ],
             [
              0.8888888888888888,
              "#fdca26"
             ],
             [
              1,
              "#f0f921"
             ]
            ],
            "type": "contour"
           }
          ],
          "contourcarpet": [
           {
            "colorbar": {
             "outlinewidth": 0,
             "ticks": ""
            },
            "type": "contourcarpet"
           }
          ],
          "heatmap": [
           {
            "colorbar": {
             "outlinewidth": 0,
             "ticks": ""
            },
            "colorscale": [
             [
              0,
              "#0d0887"
             ],
             [
              0.1111111111111111,
              "#46039f"
             ],
             [
              0.2222222222222222,
              "#7201a8"
             ],
             [
              0.3333333333333333,
              "#9c179e"
             ],
             [
              0.4444444444444444,
              "#bd3786"
             ],
             [
              0.5555555555555556,
              "#d8576b"
             ],
             [
              0.6666666666666666,
              "#ed7953"
             ],
             [
              0.7777777777777778,
              "#fb9f3a"
             ],
             [
              0.8888888888888888,
              "#fdca26"
             ],
             [
              1,
              "#f0f921"
             ]
            ],
            "type": "heatmap"
           }
          ],
          "heatmapgl": [
           {
            "colorbar": {
             "outlinewidth": 0,
             "ticks": ""
            },
            "colorscale": [
             [
              0,
              "#0d0887"
             ],
             [
              0.1111111111111111,
              "#46039f"
             ],
             [
              0.2222222222222222,
              "#7201a8"
             ],
             [
              0.3333333333333333,
              "#9c179e"
             ],
             [
              0.4444444444444444,
              "#bd3786"
             ],
             [
              0.5555555555555556,
              "#d8576b"
             ],
             [
              0.6666666666666666,
              "#ed7953"
             ],
             [
              0.7777777777777778,
              "#fb9f3a"
             ],
             [
              0.8888888888888888,
              "#fdca26"
             ],
             [
              1,
              "#f0f921"
             ]
            ],
            "type": "heatmapgl"
           }
          ],
          "histogram": [
           {
            "marker": {
             "pattern": {
              "fillmode": "overlay",
              "size": 10,
              "solidity": 0.2
             }
            },
            "type": "histogram"
           }
          ],
          "histogram2d": [
           {
            "colorbar": {
             "outlinewidth": 0,
             "ticks": ""
            },
            "colorscale": [
             [
              0,
              "#0d0887"
             ],
             [
              0.1111111111111111,
              "#46039f"
             ],
             [
              0.2222222222222222,
              "#7201a8"
             ],
             [
              0.3333333333333333,
              "#9c179e"
             ],
             [
              0.4444444444444444,
              "#bd3786"
             ],
             [
              0.5555555555555556,
              "#d8576b"
             ],
             [
              0.6666666666666666,
              "#ed7953"
             ],
             [
              0.7777777777777778,
              "#fb9f3a"
             ],
             [
              0.8888888888888888,
              "#fdca26"
             ],
             [
              1,
              "#f0f921"
             ]
            ],
            "type": "histogram2d"
           }
          ],
          "histogram2dcontour": [
           {
            "colorbar": {
             "outlinewidth": 0,
             "ticks": ""
            },
            "colorscale": [
             [
              0,
              "#0d0887"
             ],
             [
              0.1111111111111111,
              "#46039f"
             ],
             [
              0.2222222222222222,
              "#7201a8"
             ],
             [
              0.3333333333333333,
              "#9c179e"
             ],
             [
              0.4444444444444444,
              "#bd3786"
             ],
             [
              0.5555555555555556,
              "#d8576b"
             ],
             [
              0.6666666666666666,
              "#ed7953"
             ],
             [
              0.7777777777777778,
              "#fb9f3a"
             ],
             [
              0.8888888888888888,
              "#fdca26"
             ],
             [
              1,
              "#f0f921"
             ]
            ],
            "type": "histogram2dcontour"
           }
          ],
          "mesh3d": [
           {
            "colorbar": {
             "outlinewidth": 0,
             "ticks": ""
            },
            "type": "mesh3d"
           }
          ],
          "parcoords": [
           {
            "line": {
             "colorbar": {
              "outlinewidth": 0,
              "ticks": ""
             }
            },
            "type": "parcoords"
           }
          ],
          "pie": [
           {
            "automargin": true,
            "type": "pie"
           }
          ],
          "scatter": [
           {
            "fillpattern": {
             "fillmode": "overlay",
             "size": 10,
             "solidity": 0.2
            },
            "type": "scatter"
           }
          ],
          "scatter3d": [
           {
            "line": {
             "colorbar": {
              "outlinewidth": 0,
              "ticks": ""
             }
            },
            "marker": {
             "colorbar": {
              "outlinewidth": 0,
              "ticks": ""
             }
            },
            "type": "scatter3d"
           }
          ],
          "scattercarpet": [
           {
            "marker": {
             "colorbar": {
              "outlinewidth": 0,
              "ticks": ""
             }
            },
            "type": "scattercarpet"
           }
          ],
          "scattergeo": [
           {
            "marker": {
             "colorbar": {
              "outlinewidth": 0,
              "ticks": ""
             }
            },
            "type": "scattergeo"
           }
          ],
          "scattergl": [
           {
            "marker": {
             "colorbar": {
              "outlinewidth": 0,
              "ticks": ""
             }
            },
            "type": "scattergl"
           }
          ],
          "scattermapbox": [
           {
            "marker": {
             "colorbar": {
              "outlinewidth": 0,
              "ticks": ""
             }
            },
            "type": "scattermapbox"
           }
          ],
          "scatterpolar": [
           {
            "marker": {
             "colorbar": {
              "outlinewidth": 0,
              "ticks": ""
             }
            },
            "type": "scatterpolar"
           }
          ],
          "scatterpolargl": [
           {
            "marker": {
             "colorbar": {
              "outlinewidth": 0,
              "ticks": ""
             }
            },
            "type": "scatterpolargl"
           }
          ],
          "scatterternary": [
           {
            "marker": {
             "colorbar": {
              "outlinewidth": 0,
              "ticks": ""
             }
            },
            "type": "scatterternary"
           }
          ],
          "surface": [
           {
            "colorbar": {
             "outlinewidth": 0,
             "ticks": ""
            },
            "colorscale": [
             [
              0,
              "#0d0887"
             ],
             [
              0.1111111111111111,
              "#46039f"
             ],
             [
              0.2222222222222222,
              "#7201a8"
             ],
             [
              0.3333333333333333,
              "#9c179e"
             ],
             [
              0.4444444444444444,
              "#bd3786"
             ],
             [
              0.5555555555555556,
              "#d8576b"
             ],
             [
              0.6666666666666666,
              "#ed7953"
             ],
             [
              0.7777777777777778,
              "#fb9f3a"
             ],
             [
              0.8888888888888888,
              "#fdca26"
             ],
             [
              1,
              "#f0f921"
             ]
            ],
            "type": "surface"
           }
          ],
          "table": [
           {
            "cells": {
             "fill": {
              "color": "#EBF0F8"
             },
             "line": {
              "color": "white"
             }
            },
            "header": {
             "fill": {
              "color": "#C8D4E3"
             },
             "line": {
              "color": "white"
             }
            },
            "type": "table"
           }
          ]
         },
         "layout": {
          "annotationdefaults": {
           "arrowcolor": "#2a3f5f",
           "arrowhead": 0,
           "arrowwidth": 1
          },
          "autotypenumbers": "strict",
          "coloraxis": {
           "colorbar": {
            "outlinewidth": 0,
            "ticks": ""
           }
          },
          "colorscale": {
           "diverging": [
            [
             0,
             "#8e0152"
            ],
            [
             0.1,
             "#c51b7d"
            ],
            [
             0.2,
             "#de77ae"
            ],
            [
             0.3,
             "#f1b6da"
            ],
            [
             0.4,
             "#fde0ef"
            ],
            [
             0.5,
             "#f7f7f7"
            ],
            [
             0.6,
             "#e6f5d0"
            ],
            [
             0.7,
             "#b8e186"
            ],
            [
             0.8,
             "#7fbc41"
            ],
            [
             0.9,
             "#4d9221"
            ],
            [
             1,
             "#276419"
            ]
           ],
           "sequential": [
            [
             0,
             "#0d0887"
            ],
            [
             0.1111111111111111,
             "#46039f"
            ],
            [
             0.2222222222222222,
             "#7201a8"
            ],
            [
             0.3333333333333333,
             "#9c179e"
            ],
            [
             0.4444444444444444,
             "#bd3786"
            ],
            [
             0.5555555555555556,
             "#d8576b"
            ],
            [
             0.6666666666666666,
             "#ed7953"
            ],
            [
             0.7777777777777778,
             "#fb9f3a"
            ],
            [
             0.8888888888888888,
             "#fdca26"
            ],
            [
             1,
             "#f0f921"
            ]
           ],
           "sequentialminus": [
            [
             0,
             "#0d0887"
            ],
            [
             0.1111111111111111,
             "#46039f"
            ],
            [
             0.2222222222222222,
             "#7201a8"
            ],
            [
             0.3333333333333333,
             "#9c179e"
            ],
            [
             0.4444444444444444,
             "#bd3786"
            ],
            [
             0.5555555555555556,
             "#d8576b"
            ],
            [
             0.6666666666666666,
             "#ed7953"
            ],
            [
             0.7777777777777778,
             "#fb9f3a"
            ],
            [
             0.8888888888888888,
             "#fdca26"
            ],
            [
             1,
             "#f0f921"
            ]
           ]
          },
          "colorway": [
           "#636efa",
           "#EF553B",
           "#00cc96",
           "#ab63fa",
           "#FFA15A",
           "#19d3f3",
           "#FF6692",
           "#B6E880",
           "#FF97FF",
           "#FECB52"
          ],
          "font": {
           "color": "#2a3f5f"
          },
          "geo": {
           "bgcolor": "white",
           "lakecolor": "white",
           "landcolor": "#E5ECF6",
           "showlakes": true,
           "showland": true,
           "subunitcolor": "white"
          },
          "hoverlabel": {
           "align": "left"
          },
          "hovermode": "closest",
          "mapbox": {
           "style": "light"
          },
          "paper_bgcolor": "white",
          "plot_bgcolor": "#E5ECF6",
          "polar": {
           "angularaxis": {
            "gridcolor": "white",
            "linecolor": "white",
            "ticks": ""
           },
           "bgcolor": "#E5ECF6",
           "radialaxis": {
            "gridcolor": "white",
            "linecolor": "white",
            "ticks": ""
           }
          },
          "scene": {
           "xaxis": {
            "backgroundcolor": "#E5ECF6",
            "gridcolor": "white",
            "gridwidth": 2,
            "linecolor": "white",
            "showbackground": true,
            "ticks": "",
            "zerolinecolor": "white"
           },
           "yaxis": {
            "backgroundcolor": "#E5ECF6",
            "gridcolor": "white",
            "gridwidth": 2,
            "linecolor": "white",
            "showbackground": true,
            "ticks": "",
            "zerolinecolor": "white"
           },
           "zaxis": {
            "backgroundcolor": "#E5ECF6",
            "gridcolor": "white",
            "gridwidth": 2,
            "linecolor": "white",
            "showbackground": true,
            "ticks": "",
            "zerolinecolor": "white"
           }
          },
          "shapedefaults": {
           "line": {
            "color": "#2a3f5f"
           }
          },
          "ternary": {
           "aaxis": {
            "gridcolor": "white",
            "linecolor": "white",
            "ticks": ""
           },
           "baxis": {
            "gridcolor": "white",
            "linecolor": "white",
            "ticks": ""
           },
           "bgcolor": "#E5ECF6",
           "caxis": {
            "gridcolor": "white",
            "linecolor": "white",
            "ticks": ""
           }
          },
          "title": {
           "x": 0.05
          },
          "xaxis": {
           "automargin": true,
           "gridcolor": "white",
           "linecolor": "white",
           "ticks": "",
           "title": {
            "standoff": 15
           },
           "zerolinecolor": "white",
           "zerolinewidth": 2
          },
          "yaxis": {
           "automargin": true,
           "gridcolor": "white",
           "linecolor": "white",
           "ticks": "",
           "title": {
            "standoff": 15
           },
           "zerolinecolor": "white",
           "zerolinewidth": 2
          }
         }
        },
        "title": {
         "font": {
          "color": "black",
          "family": "Courier New, monospace",
          "size": 24
         },
         "text": "Prices over time"
        },
        "xaxis": {
         "title": {
          "text": "Time (steps)"
         }
        },
        "yaxis": {
         "title": {
          "text": "Price"
         }
        }
       }
      }
     },
     "metadata": {},
     "output_type": "display_data"
    }
   ],
   "source": [
    "# Model-level data\n",
    "fig = sp.make_subplots(rows=int(len(model_data.columns)/2), cols=2, subplot_titles=model_data.columns)\n",
    "color_discrete_sequence=px.colors.qualitative.Plotly  # Default color sequence\n",
    "\n",
    "for i, col in enumerate(model_data.columns, start=1):\n",
    "    fig.add_trace(go.Scatter(x=model_data.index, y=model_data[col], mode='lines', name=col, line=dict(color=color_discrete_sequence[(i-1) % len(color_discrete_sequence)])), row=int((i-1)/2)+1, col=((i-1)%2)+1)\n",
    "\n",
    "fig.update_layout(height=400*int(len(model_data.columns)/2), width=1600, title_text=\"\", showlegend=False, \n",
    "                  title_font=dict(size=24, color='black', family=\"Courier New, monospace\"), # Adjust size and font here\n",
    "                  )\n",
    "\n",
    "fig.show()\n",
    "\n",
    "# For Price1, Price2, and Energy Price\n",
    "fig = go.Figure()\n",
    "fig.add_trace(go.Scatter(x=model_data.index, y=model_data['Price Yellow Fuel'], mode='lines', name='Price Yellow Fuel', line=dict(color='gold')))\n",
    "fig.add_trace(go.Scatter(x=model_data.index, y=model_data['Price Brown Fuel'], mode='lines', name='Price Brown Fuel', line=dict(color='brown')))\n",
    "fig.add_trace(go.Scatter(x=model_data.index, y=model_data['Energy Price'], mode='lines', name='Energy Price', line=dict(color='green')))\n",
    "\n",
    "fig.update_layout(title='Prices over time', xaxis_title='Time (steps)', yaxis_title='Price', showlegend=False,\n",
    "                  title_font=dict(size=24, color='black', family=\"Courier New, monospace\"), # Adjust size and font here\n",
    "                  )\n",
    "\n",
    "fig.show()\n"
   ]
  },
  {
   "cell_type": "code",
   "execution_count": 10,
   "metadata": {},
   "outputs": [
    {
     "data": {
      "application/vnd.jupyter.widget-view+json": {
       "model_id": "3ea59f97ceaf44a1a35efd7166c2f865",
       "version_major": 2,
       "version_minor": 0
      },
      "text/plain": [
       "interactive(children=(IntSlider(value=7, description='step', max=14), Output()), _dom_classes=('widget-interac…"
      ]
     },
     "metadata": {},
     "output_type": "display_data"
    },
    {
     "data": {
      "text/plain": [
       "<function __main__.plot_step(step)>"
      ]
     },
     "execution_count": 10,
     "metadata": {},
     "output_type": "execute_result"
    }
   ],
   "source": [
    "import matplotlib.pyplot as plt\n",
    "from ipywidgets import interact\n",
    "\n",
    "\n",
    "# reset index to make X, Y, Inability into columns\n",
    "df = agent_data.reset_index()\n",
    "\n",
    "def plot_step(step):\n",
    "    df_step = df[df['Step'] == step]\n",
    "    fig, ax = plt.subplots()\n",
    "    colors = ['red' if inability else 'green' for inability in df_step['Inability']]\n",
    "    ax.scatter(df_step['X'], df_step['Y'], color=colors)\n",
    "    plt.show()\n",
    "\n",
    "# create slider for steps\n",
    "interact(plot_step, step=(0, df['Step'].max()))"
   ]
  },
  {
   "cell_type": "code",
   "execution_count": 11,
   "metadata": {},
   "outputs": [],
   "source": [
    "def plot_dwelling(step):\n",
    "    df_step = df[df['Step'] == step].copy()  # Make a copy to prevent the warning\n",
    "    \n",
    "    # Assuming income and dwelling are attributes in your DataFrame\n",
    "    try:\n",
    "        df_step.loc[:, 'Income Quintile'] = pd.qcut(df_step['Income'], 5, labels=False, duplicates='drop')\n",
    "        average_dwelling = df_step.groupby('Income Quintile')['Dwelling'].mean().reset_index()\n",
    "        \n",
    "        plt.figure(figsize=(10, 6))\n",
    "        sns.barplot(x='Income Quintile', y='Dwelling', data=average_dwelling)\n",
    "        plt.title('Average Dwelling by Income Quintile at Step ' + str(step))\n",
    "        plt.xlabel('Income Quintile')\n",
    "        plt.ylabel('Average Dwelling')\n",
    "        plt.show()\n",
    "    except ValueError as e:\n",
    "        print(f\"Could not plot for step {step} due to error: {e}\")\n"
   ]
  },
  {
   "cell_type": "code",
   "execution_count": 12,
   "metadata": {},
   "outputs": [
    {
     "data": {
      "application/vnd.jupyter.widget-view+json": {
       "model_id": "71f1c800c234473aa9e16273d2e027b4",
       "version_major": 2,
       "version_minor": 0
      },
      "text/plain": [
       "interactive(children=(IntSlider(value=7, description='step', max=14), Output()), _dom_classes=('widget-interac…"
      ]
     },
     "metadata": {},
     "output_type": "display_data"
    },
    {
     "data": {
      "text/plain": [
       "<function __main__.plot_dwelling(step)>"
      ]
     },
     "execution_count": 12,
     "metadata": {},
     "output_type": "execute_result"
    }
   ],
   "source": [
    "# create slider for steps\n",
    "interact(plot_dwelling, step=(0, df['Step'].max()))\n"
   ]
  },
  {
   "cell_type": "code",
   "execution_count": 13,
   "metadata": {},
   "outputs": [],
   "source": [
    "def plot_dwelling(step):\n",
    "    df_step = df[df['Step'] == step].copy()  # Make a copy to prevent the warning\n",
    "    \n",
    "    # Assuming income and dwelling are attributes in your DataFrame\n",
    "    try:\n",
    "        df_step.loc[:, 'Income Quintile'] = pd.qcut(df_step['Income'], 5, labels=False, duplicates='drop')\n",
    "        average_dwelling = df_step.groupby('Income Quintile')['Dwelling'].mean().reset_index()\n",
    "        \n",
    "        plt.figure(figsize=(10, 6))\n",
    "        sns.barplot(x='Income Quintile', y='Dwelling', data=average_dwelling)\n",
    "        plt.title('Average Dwelling by Income Quintile at Step ' + str(step))\n",
    "        plt.xlabel('Income Quintile')\n",
    "        plt.ylabel('Average Dwelling')\n",
    "        plt.show()\n",
    "    except ValueError as e:\n",
    "        print(f\"Could not plot for step {step} due to error: {e}\")\n"
   ]
  },
  {
   "cell_type": "code",
   "execution_count": 14,
   "metadata": {},
   "outputs": [
    {
     "data": {
      "application/vnd.jupyter.widget-view+json": {
       "model_id": "98f95e7d28c84fc393c3a8a062930759",
       "version_major": 2,
       "version_minor": 0
      },
      "text/plain": [
       "interactive(children=(IntSlider(value=7, description='step', max=14), Output()), _dom_classes=('widget-interac…"
      ]
     },
     "metadata": {},
     "output_type": "display_data"
    },
    {
     "data": {
      "text/plain": [
       "<function __main__.plot_all(step)>"
      ]
     },
     "execution_count": 14,
     "metadata": {},
     "output_type": "execute_result"
    }
   ],
   "source": [
    "from IPython.display import display\n",
    "\n",
    "def plot_all(step):\n",
    "    df_step = df[df['Step'] == step].copy()  # Make a copy to prevent the warning\n",
    "    \n",
    "    # Assuming income and dwelling are attributes in your DataFrame\n",
    "    try:\n",
    "        df_step.loc[:, 'Income Quintile'] = pd.qcut(df_step['Income'], 5, labels=False, duplicates='drop')\n",
    "        \n",
    "        fig, axs = plt.subplots(2, 2, figsize=(20, 12))  # Create a subplot with 2 rows and 2 columns\n",
    "\n",
    "        # Plot Inability\n",
    "        colors = ['red' if inability else 'green' for inability in df_step['Inability']]\n",
    "        axs[0, 0].scatter(df_step['X'], df_step['Y'], color=colors)\n",
    "        axs[0, 0].set_title('Inability at Step ' + str(step))\n",
    "        \n",
    "        # Plot Average Disposable Income by Income Quintile\n",
    "        average_inability = df_step.groupby('Income Quintile')['Inability'].mean().reset_index()\n",
    "        sns.barplot(x='Income Quintile', y='Inability', data=average_inability, ax=axs[0, 1])\n",
    "        axs[0, 1].set_title('Average Inability by Income Quintile at Step ' + str(step))\n",
    "        axs[0, 1].set_xlabel('Income Quintile')\n",
    "        axs[0, 1].set_ylabel('Average Inability')\n",
    "\n",
    "        # Plot Total Disposable Income by Income Quintile\n",
    "        total_income = df_step.groupby('Income Quintile')['Income'].mean().reset_index()\n",
    "        sns.barplot(x='Income Quintile', y='Income', data=total_income, ax=axs[1, 0])\n",
    "        axs[1, 0].set_title('Average Disposable Income by Income Quintile at Step ' + str(step))\n",
    "        axs[1, 0].set_xlabel('Income Quintile')\n",
    "        axs[1, 0].set_ylabel('Average Disposable Income')\n",
    "        \n",
    "        # Leave last plot empty (or you can add something else here)\n",
    "        axs[1, 1].axis('off')\n",
    "        \n",
    "        plt.tight_layout()\n",
    "        plt.show()\n",
    "\n",
    "    except ValueError as e:\n",
    "        print(f\"Could not plot for step {step} due to error: {e}\")\n",
    "\n",
    "# create slider for steps\n",
    "interact(plot_all, step=(0, df['Step'].max()))\n"
   ]
  },
  {
   "cell_type": "code",
   "execution_count": 15,
   "metadata": {},
   "outputs": [
    {
     "data": {
      "image/png": "[encoded data removed]",
      "text/plain": [
       "<Figure size 720x432 with 1 Axes>"
      ]
     },
     "metadata": {
      "needs_background": "light"
     },
     "output_type": "display_data"
    }
   ],
   "source": [
    "import seaborn as sns\n",
    "import matplotlib.pyplot as plt\n",
    "\n",
    "# Assuming 'agent_df' is your DataFrame\n",
    "agent_df = model.datacollector.get_agent_vars_dataframe()\n",
    "\n",
    "# Calculate quintiles\n",
    "agent_df['Income Quintile'] = pd.qcut(agent_df['Income'], 5, labels=False)\n",
    "\n",
    "# Calculate average dwelling by income quintile\n",
    "average_dwelling = agent_df.groupby('Income Quintile')['Dwelling'].mean().reset_index()\n",
    "\n",
    "# Create bar plot\n",
    "plt.figure(figsize=(10, 6))\n",
    "sns.barplot(x='Income Quintile', y='Dwelling', data=average_dwelling)\n",
    "plt.title('Average Dwelling by Income Quintile')\n",
    "plt.xlabel('Income Quintile')\n",
    "plt.ylabel('Average Dwelling')\n",
    "plt.show()"
   ]
  },
  {
   "cell_type": "code",
   "execution_count": 16,
   "metadata": {},
   "outputs": [
    {
     "data": {
      "image/png": "[encoded data removed]",
      "text/plain": [
       "<Figure size 720x432 with 1 Axes>"
      ]
     },
     "metadata": {
      "needs_background": "light"
     },
     "output_type": "display_data"
    }
   ],
   "source": [
    "import seaborn as sns\n",
    "import matplotlib.pyplot as plt\n",
    "\n",
    "# Assuming 'agent_df' is your DataFrame\n",
    "agent_df = model.datacollector.get_agent_vars_dataframe()\n",
    "\n",
    "# Calculate quintiles\n",
    "agent_df['Income Quintile'] = pd.qcut(agent_df['Income'], 5, labels=False)\n",
    "\n",
    "# Calculate average dwelling by income quintile\n",
    "average_dwelling = agent_df.groupby('Income Quintile')['Inability'].mean().reset_index()\n",
    "\n",
    "# Create bar plot\n",
    "plt.figure(figsize=(10, 6))\n",
    "sns.barplot(x='Income Quintile', y='Inability', data=average_dwelling)\n",
    "plt.title('Average Inability by Income Quintile')\n",
    "plt.xlabel('Income Quintile')\n",
    "plt.ylabel('Average Inability')\n",
    "plt.show()"
   ]
  },
  {
   "cell_type": "code",
   "execution_count": 17,
   "metadata": {},
   "outputs": [
    {
     "data": {
      "image/png": "[encoded data removed]",
      "text/plain": [
       "<Figure size 720x432 with 1 Axes>"
      ]
     },
     "metadata": {
      "needs_background": "light"
     },
     "output_type": "display_data"
    }
   ],
   "source": [
    "import seaborn as sns\n",
    "import matplotlib.pyplot as plt\n",
    "\n",
    "# Assuming 'agent_df' is your DataFrame\n",
    "agent_df = model.datacollector.get_agent_vars_dataframe()\n",
    "\n",
    "# Calculate quintiles\n",
    "agent_df['Income Quintile'] = pd.qcut(agent_df['Income'], 5, labels=False)\n",
    "\n",
    "# Calculate average dwelling by income quintile\n",
    "average_dwelling = agent_df.groupby('Income Quintile')['Inability'].sum().reset_index()\n",
    "\n",
    "# Create bar plot\n",
    "plt.figure(figsize=(10, 6))\n",
    "sns.barplot(x='Income Quintile', y='Inability', data=average_dwelling)\n",
    "plt.title('Total Inability by Income Quintile')\n",
    "plt.xlabel('Income Quintile')\n",
    "plt.ylabel('Total Inability')\n",
    "plt.show()"
   ]
  },
  {
   "cell_type": "code",
   "execution_count": null,
   "metadata": {},
   "outputs": [],
   "source": []
  },
  {
   "cell_type": "code",
   "execution_count": null,
   "metadata": {},
   "outputs": [],
   "source": []
  }
 ],
 "metadata": {
  "kernelspec": {
   "display_name": "Python 3",
   "language": "python",
   "name": "python3"
  },
  "language_info": {
   "codemirror_mode": {
    "name": "ipython",
    "version": 3
   },
   "file_extension": ".py",
   "mimetype": "text/x-python",
   "name": "python",
   "nbconvert_exporter": "python",
   "pygments_lexer": "ipython3",
   "version": "3.8.10"
  },
  "orig_nbformat": 4
 },
 "nbformat": 4,
 "nbformat_minor": 2
}
